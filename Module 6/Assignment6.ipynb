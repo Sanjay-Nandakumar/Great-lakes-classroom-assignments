{
 "cells": [
  {
   "cell_type": "markdown",
   "metadata": {
    "id": "6oS7rFLlMtcs"
   },
   "source": [
    "# Recommendation systems"
   ]
  },
  {
   "cell_type": "markdown",
   "metadata": {
    "id": "xKfzd1X-MtS7"
   },
   "source": [
    "India is the second largest market globally for smartphones after China. About 134 million smartphones were sold across India\n",
    "in the year 2017 and is estimated to increase to about 442 million in 2022. India ranked second in the average time spent on mobile web by\n",
    "smartphone users across Asia Pacific. The combination of very high sales volumes and the average smartphone consumer behaviour has\n",
    "made India a very attractive market for foreign vendors. As per Consumer behaviour, 97% of consumers turn to a search engine when they\n",
    "are buying a product vs. 15% who turn to social media. If a seller succeeds to publish smartphones based on user’s behaviour/choice at the\n",
    "right place, there are 90% chances that user will enquire for the same. This Case Study is targeted to build a recommendation system\n",
    "based on individual consumer’s behaviour or choice."
   ]
  },
  {
   "cell_type": "markdown",
   "metadata": {},
   "source": [
    "# Data description"
   ]
  },
  {
   "cell_type": "markdown",
   "metadata": {
    "id": "pr1cArX4M2f1"
   },
   "source": [
    "\n",
    "• author : name of the person who gave the rating\n",
    "\n",
    "• country : country the person who gave the rating belongs to\n",
    "\n",
    "• data : date of the rating\n",
    "\n",
    "• domain: website from which the rating was taken from\n",
    "\n",
    "• extract: rating content\n",
    "\n",
    "• language: language in which the rating was given\n",
    "\n",
    "• product: name of the product/mobile phone for which the rating was given\n",
    "\n",
    "• score: average rating for the phone\n",
    "\n",
    "• score_max: highest rating given for the phone\n",
    "\n",
    "• source: source from where the rating was taken"
   ]
  },
  {
   "cell_type": "markdown",
   "metadata": {
    "id": "RbRk-iD8M_g5"
   },
   "source": [
    "# Project Objective"
   ]
  },
  {
   "cell_type": "markdown",
   "metadata": {
    "id": "VNhdehLwNCaq"
   },
   "source": [
    "We will build a recommendation system using popularity based and collaborative filtering methods to recommend\n",
    "mobile phones to a user which are most popular and personalised respectively.."
   ]
  },
  {
   "cell_type": "markdown",
   "metadata": {
    "id": "Ogx4AFbret2F"
   },
   "source": [
    "# Import the necessary libraries and read the provided CSVs as a data frame and perform the below steps. "
   ]
  },
  {
   "cell_type": "code",
   "execution_count": null,
   "metadata": {
    "id": "aFJnNwflet2K"
   },
   "outputs": [],
   "source": [
    "# Imports\n",
    "import pandas as pd, numpy as np, matplotlib.pyplot as plt, seaborn as sns\n",
    "import matplotlib.style as style; style.use('fivethirtyeight')\n",
    "from sklearn.model_selection import train_test_split\n",
    "from sklearn.metrics import mean_squared_error\n",
    "from scipy.sparse.linalg import svds\n",
    "import gc\n",
    "%matplotlib inline\n",
    "\n",
    "# Surprise package for making recommendation\n",
    "from surprise import KNNBaseline, KNNBasic, KNNWithMeans, KNNWithZScore\n",
    "from surprise.model_selection import GridSearchCV, cross_validate, KFold\n",
    "from surprise import accuracy, Reader, Dataset, dump\n",
    "\n",
    "# For Sklearn NearestNeighbor based recommendation\n",
    "from sklearn.metrics import pairwise_distances, mean_squared_error\n",
    "from scipy.spatial.distance import correlation, cosine\n",
    "from sklearn.neighbors import NearestNeighbors\n",
    "from scipy.sparse import csr_matrix\n",
    "import sklearn.metrics as metrics\n",
    "from math import sqrt\n",
    "\n",
    "# Display settings\n",
    "pd.options.display.max_rows = 999\n",
    "pd.options.display.max_columns = 20\n",
    "pd.options.display.float_format = \"{:.2f}\".format\n",
    "\n",
    "random_state = 2019\n",
    "np.random.seed(random_state)\n",
    "\n",
    "# Suppress warnings\n",
    "import warnings; warnings.filterwarnings('ignore')"
   ]
  },
  {
   "cell_type": "markdown",
   "metadata": {
    "id": "LDPuTopdet2M"
   },
   "source": [
    "# Merge the provided CSVs into one data-frame"
   ]
  },
  {
   "cell_type": "code",
   "execution_count": null,
   "metadata": {
    "id": "RZREevoTet2N"
   },
   "outputs": [],
   "source": [
    "df1 = pd.read_csv('/content/phone_user_review_file_1.csv',engine='python', error_bad_lines=False)\n"
   ]
  },
  {
   "cell_type": "code",
   "execution_count": null,
   "metadata": {
    "colab": {
     "base_uri": "https://localhost:8080/",
     "height": 754
    },
    "id": "cxrxbZ2mnWyT",
    "outputId": "013bba9f-f183-4d52-d284-48dcaa0ab9bf"
   },
   "outputs": [
    {
     "data": {
      "text/html": [
       "<div>\n",
       "<style scoped>\n",
       "    .dataframe tbody tr th:only-of-type {\n",
       "        vertical-align: middle;\n",
       "    }\n",
       "\n",
       "    .dataframe tbody tr th {\n",
       "        vertical-align: top;\n",
       "    }\n",
       "\n",
       "    .dataframe thead th {\n",
       "        text-align: right;\n",
       "    }\n",
       "</style>\n",
       "<table border=\"1\" class=\"dataframe\">\n",
       "  <thead>\n",
       "    <tr style=\"text-align: right;\">\n",
       "      <th></th>\n",
       "      <th>phone_url</th>\n",
       "      <th>date</th>\n",
       "      <th>lang</th>\n",
       "      <th>country</th>\n",
       "      <th>source</th>\n",
       "      <th>domain</th>\n",
       "      <th>score</th>\n",
       "      <th>score_max</th>\n",
       "      <th>extract</th>\n",
       "      <th>author</th>\n",
       "      <th>product</th>\n",
       "    </tr>\n",
       "  </thead>\n",
       "  <tbody>\n",
       "    <tr>\n",
       "      <th>0</th>\n",
       "      <td>/cellphones/samsung-s7262-duos-galaxy-ace/</td>\n",
       "      <td>3/11/2015</td>\n",
       "      <td>en</td>\n",
       "      <td>us</td>\n",
       "      <td>Amazon</td>\n",
       "      <td>amazon.com</td>\n",
       "      <td>2.00</td>\n",
       "      <td>10.00</td>\n",
       "      <td>was not conpatable with my phone as stated. I ...</td>\n",
       "      <td>Frances DeSimone</td>\n",
       "      <td>Samsung Galaxy Star Pro DUOS S7262 Unlocked Ce...</td>\n",
       "    </tr>\n",
       "    <tr>\n",
       "      <th>1</th>\n",
       "      <td>/cellphones/samsung-s7262-duos-galaxy-ace/</td>\n",
       "      <td>17/11/2015</td>\n",
       "      <td>en</td>\n",
       "      <td>in</td>\n",
       "      <td>Zopper</td>\n",
       "      <td>zopper.com</td>\n",
       "      <td>10.00</td>\n",
       "      <td>10.00</td>\n",
       "      <td>Decent Functions and Easy to Operate Pros:- Th...</td>\n",
       "      <td>Expert Review</td>\n",
       "      <td>Samsung Galaxy Star Pro S7262 Black</td>\n",
       "    </tr>\n",
       "    <tr>\n",
       "      <th>2</th>\n",
       "      <td>/cellphones/samsung-s7262-duos-galaxy-ace/</td>\n",
       "      <td>29/10/2015</td>\n",
       "      <td>en</td>\n",
       "      <td>in</td>\n",
       "      <td>Amazon</td>\n",
       "      <td>amazon.in</td>\n",
       "      <td>4.00</td>\n",
       "      <td>10.00</td>\n",
       "      <td>Not Good Phone such price. Hang too much and v...</td>\n",
       "      <td>Amazon Customer</td>\n",
       "      <td>Samsung Galaxy Star Pro GT-S7262 (Midnight Black)</td>\n",
       "    </tr>\n",
       "    <tr>\n",
       "      <th>3</th>\n",
       "      <td>/cellphones/samsung-s7262-duos-galaxy-ace/</td>\n",
       "      <td>29/10/2015</td>\n",
       "      <td>en</td>\n",
       "      <td>in</td>\n",
       "      <td>Amazon</td>\n",
       "      <td>amazon.in</td>\n",
       "      <td>6.00</td>\n",
       "      <td>10.00</td>\n",
       "      <td>not bad for features</td>\n",
       "      <td>Amazon Customer</td>\n",
       "      <td>Samsung Galaxy Star Pro GT-S7262 (Midnight Black)</td>\n",
       "    </tr>\n",
       "    <tr>\n",
       "      <th>4</th>\n",
       "      <td>/cellphones/samsung-s7262-duos-galaxy-ace/</td>\n",
       "      <td>29/10/2015</td>\n",
       "      <td>en</td>\n",
       "      <td>in</td>\n",
       "      <td>Amazon</td>\n",
       "      <td>amazon.in</td>\n",
       "      <td>10.00</td>\n",
       "      <td>10.00</td>\n",
       "      <td>Excellent product</td>\n",
       "      <td>NHK</td>\n",
       "      <td>Samsung Galaxy Star Pro GT-S7262 (Midnight Black)</td>\n",
       "    </tr>\n",
       "    <tr>\n",
       "      <th>...</th>\n",
       "      <td>...</td>\n",
       "      <td>...</td>\n",
       "      <td>...</td>\n",
       "      <td>...</td>\n",
       "      <td>...</td>\n",
       "      <td>...</td>\n",
       "      <td>...</td>\n",
       "      <td>...</td>\n",
       "      <td>...</td>\n",
       "      <td>...</td>\n",
       "      <td>...</td>\n",
       "    </tr>\n",
       "    <tr>\n",
       "      <th>98279</th>\n",
       "      <td>/cellphones/zte-grand-s-flex/</td>\n",
       "      <td>3/1/2016</td>\n",
       "      <td>de</td>\n",
       "      <td>de</td>\n",
       "      <td>Amazon</td>\n",
       "      <td>amazon.de</td>\n",
       "      <td>2.00</td>\n",
       "      <td>10.00</td>\n",
       "      <td>Dieses Handy macht kein Spa??. Die Wlan Verbin...</td>\n",
       "      <td>Anja Jentsch</td>\n",
       "      <td>ZTE Grand S Flex Smartphone (12,7 cm (5 Zoll) ...</td>\n",
       "    </tr>\n",
       "    <tr>\n",
       "      <th>98280</th>\n",
       "      <td>/cellphones/zte-grand-s-flex/</td>\n",
       "      <td>31/12/2015</td>\n",
       "      <td>de</td>\n",
       "      <td>de</td>\n",
       "      <td>Amazon</td>\n",
       "      <td>amazon.de</td>\n",
       "      <td>4.00</td>\n",
       "      <td>10.00</td>\n",
       "      <td>Das ZTE Grand S Flex begeistert am Anfang durc...</td>\n",
       "      <td>Daniel Winkler</td>\n",
       "      <td>ZTE Grand S Flex Smartphone (12,7 cm (5 Zoll) ...</td>\n",
       "    </tr>\n",
       "    <tr>\n",
       "      <th>98281</th>\n",
       "      <td>/cellphones/zte-grand-s-flex/</td>\n",
       "      <td>20/12/2015</td>\n",
       "      <td>de</td>\n",
       "      <td>de</td>\n",
       "      <td>Amazon</td>\n",
       "      <td>amazon.de</td>\n",
       "      <td>2.00</td>\n",
       "      <td>10.00</td>\n",
       "      <td>Das Smartphone h??lt in meinem Falle NICHT was...</td>\n",
       "      <td>Amazon Kunde</td>\n",
       "      <td>ZTE Grand S Flex Smartphone (12,7 cm (5 Zoll) ...</td>\n",
       "    </tr>\n",
       "    <tr>\n",
       "      <th>98282</th>\n",
       "      <td>/cellphones/zte-grand-s-flex/</td>\n",
       "      <td>24/11/2015</td>\n",
       "      <td>de</td>\n",
       "      <td>de</td>\n",
       "      <td>Amazon</td>\n",
       "      <td>amazon.de</td>\n",
       "      <td>10.00</td>\n",
       "      <td>10.00</td>\n",
       "      <td>Dieses Smartphone habe ich letztes Jahr meinem...</td>\n",
       "      <td>Jens D.</td>\n",
       "      <td>ZTE Grand S Flex Smartphone (12,7 cm (5 Zoll) ...</td>\n",
       "    </tr>\n",
       "    <tr>\n",
       "      <th>98283</th>\n",
       "      <td>/cellphones/zte-grand-s-flex/</td>\n",
       "      <td>29/10/2015</td>\n",
       "      <td>de</td>\n",
       "      <td>de</td>\n",
       "      <td>Amazon</td>\n",
       "      <td>amazon.de</td>\n",
       "      <td>4.00</td>\n",
       "      <td>10.00</td>\n",
       "      <td>Nach jeweils einem viertel Jahr hat das Smartp...</td>\n",
       "      <td>Amazon Kunde</td>\n",
       "      <td>ZTE Grand S Flex Smartphone (12,7 cm (5 Zoll) ...</td>\n",
       "    </tr>\n",
       "  </tbody>\n",
       "</table>\n",
       "<p>98284 rows × 11 columns</p>\n",
       "</div>"
      ],
      "text/plain": [
       "                                        phone_url        date lang country  \\\n",
       "0      /cellphones/samsung-s7262-duos-galaxy-ace/   3/11/2015   en      us   \n",
       "1      /cellphones/samsung-s7262-duos-galaxy-ace/  17/11/2015   en      in   \n",
       "2      /cellphones/samsung-s7262-duos-galaxy-ace/  29/10/2015   en      in   \n",
       "3      /cellphones/samsung-s7262-duos-galaxy-ace/  29/10/2015   en      in   \n",
       "4      /cellphones/samsung-s7262-duos-galaxy-ace/  29/10/2015   en      in   \n",
       "...                                           ...         ...  ...     ...   \n",
       "98279               /cellphones/zte-grand-s-flex/    3/1/2016   de      de   \n",
       "98280               /cellphones/zte-grand-s-flex/  31/12/2015   de      de   \n",
       "98281               /cellphones/zte-grand-s-flex/  20/12/2015   de      de   \n",
       "98282               /cellphones/zte-grand-s-flex/  24/11/2015   de      de   \n",
       "98283               /cellphones/zte-grand-s-flex/  29/10/2015   de      de   \n",
       "\n",
       "       source      domain  score  score_max  \\\n",
       "0      Amazon  amazon.com   2.00      10.00   \n",
       "1      Zopper  zopper.com  10.00      10.00   \n",
       "2      Amazon   amazon.in   4.00      10.00   \n",
       "3      Amazon   amazon.in   6.00      10.00   \n",
       "4      Amazon   amazon.in  10.00      10.00   \n",
       "...       ...         ...    ...        ...   \n",
       "98279  Amazon   amazon.de   2.00      10.00   \n",
       "98280  Amazon   amazon.de   4.00      10.00   \n",
       "98281  Amazon   amazon.de   2.00      10.00   \n",
       "98282  Amazon   amazon.de  10.00      10.00   \n",
       "98283  Amazon   amazon.de   4.00      10.00   \n",
       "\n",
       "                                                 extract            author  \\\n",
       "0      was not conpatable with my phone as stated. I ...  Frances DeSimone   \n",
       "1      Decent Functions and Easy to Operate Pros:- Th...     Expert Review   \n",
       "2      Not Good Phone such price. Hang too much and v...   Amazon Customer   \n",
       "3                                   not bad for features   Amazon Customer   \n",
       "4                                      Excellent product               NHK   \n",
       "...                                                  ...               ...   \n",
       "98279  Dieses Handy macht kein Spa??. Die Wlan Verbin...      Anja Jentsch   \n",
       "98280  Das ZTE Grand S Flex begeistert am Anfang durc...    Daniel Winkler   \n",
       "98281  Das Smartphone h??lt in meinem Falle NICHT was...      Amazon Kunde   \n",
       "98282  Dieses Smartphone habe ich letztes Jahr meinem...           Jens D.   \n",
       "98283  Nach jeweils einem viertel Jahr hat das Smartp...      Amazon Kunde   \n",
       "\n",
       "                                                 product  \n",
       "0      Samsung Galaxy Star Pro DUOS S7262 Unlocked Ce...  \n",
       "1                    Samsung Galaxy Star Pro S7262 Black  \n",
       "2      Samsung Galaxy Star Pro GT-S7262 (Midnight Black)  \n",
       "3      Samsung Galaxy Star Pro GT-S7262 (Midnight Black)  \n",
       "4      Samsung Galaxy Star Pro GT-S7262 (Midnight Black)  \n",
       "...                                                  ...  \n",
       "98279  ZTE Grand S Flex Smartphone (12,7 cm (5 Zoll) ...  \n",
       "98280  ZTE Grand S Flex Smartphone (12,7 cm (5 Zoll) ...  \n",
       "98281  ZTE Grand S Flex Smartphone (12,7 cm (5 Zoll) ...  \n",
       "98282  ZTE Grand S Flex Smartphone (12,7 cm (5 Zoll) ...  \n",
       "98283  ZTE Grand S Flex Smartphone (12,7 cm (5 Zoll) ...  \n",
       "\n",
       "[98284 rows x 11 columns]"
      ]
     },
     "execution_count": 140,
     "metadata": {
      "tags": []
     },
     "output_type": "execute_result"
    }
   ],
   "source": [
    "df1"
   ]
  },
  {
   "cell_type": "code",
   "execution_count": null,
   "metadata": {
    "id": "pL710sP_mF81"
   },
   "outputs": [],
   "source": [
    "df2 = pd.read_csv('/content/phone_user_review_file_2.csv',engine='python', error_bad_lines=False)"
   ]
  },
  {
   "cell_type": "code",
   "execution_count": null,
   "metadata": {
    "id": "OwKhzDLkmGGZ"
   },
   "outputs": [],
   "source": [
    "\n",
    "df3 = pd.read_csv('/content/phone_user_review_file_3.csv',engine='python', error_bad_lines=False)"
   ]
  },
  {
   "cell_type": "code",
   "execution_count": null,
   "metadata": {
    "id": "E5PyfaVcmGK6"
   },
   "outputs": [],
   "source": [
    "\n",
    "df4 = pd.read_csv('/content/phone_user_review_file_4.csv',engine='python', error_bad_lines=False)"
   ]
  },
  {
   "cell_type": "code",
   "execution_count": null,
   "metadata": {
    "id": "sl5626JRmGOF"
   },
   "outputs": [],
   "source": [
    "\n",
    "df5 = pd.read_csv('/content/phone_user_review_file_5.csv',engine='python',error_bad_lines=False)"
   ]
  },
  {
   "cell_type": "code",
   "execution_count": null,
   "metadata": {
    "id": "NvdApAfCmGR4"
   },
   "outputs": [],
   "source": [
    "df6 = pd.read_csv('/content/phone_user_review_file_6.csv',engine='python',error_bad_lines=False)"
   ]
  },
  {
   "cell_type": "code",
   "execution_count": null,
   "metadata": {
    "id": "8toOXy2wmGVw"
   },
   "outputs": [],
   "source": [
    "df6"
   ]
  },
  {
   "cell_type": "code",
   "execution_count": null,
   "metadata": {
    "id": "SGaRRDScet2O"
   },
   "outputs": [],
   "source": [
    "dfs = pd.concat([df1,df2],axis=0)\n",
    "dfs = pd.concat([dfs,df3],axis=0)\n",
    "dfs = pd.concat([dfs,df4],axis=0)\n",
    "dfs = pd.concat([dfs,df5],axis=0)\n",
    "dfs = pd.concat([dfs,df6],axis=0)"
   ]
  },
  {
   "cell_type": "code",
   "execution_count": null,
   "metadata": {
    "id": "6YGNZF_qet2P"
   },
   "outputs": [],
   "source": [
    "dfs"
   ]
  },
  {
   "cell_type": "markdown",
   "metadata": {
    "id": "0hfNDVzZet2Q"
   },
   "source": [
    "# Check a few observations and shape of the data-frame."
   ]
  },
  {
   "cell_type": "code",
   "execution_count": null,
   "metadata": {
    "colab": {
     "base_uri": "https://localhost:8080/",
     "height": 504
    },
    "id": "2Qr1zfUdet2R",
    "outputId": "c62095e5-6bf5-4c90-a4b5-b51533ec2b21"
   },
   "outputs": [
    {
     "name": "stdout",
     "output_type": "stream",
     "text": [
      "Selecting only Author, Product and 'Score' column\n",
      "--------------------------------------------------------------------------------\n"
     ]
    },
    {
     "data": {
      "image/png": "[encoded data removed]",
      "text/plain": [
       "<Figure size 1080x518.4 with 2 Axes>"
      ]
     },
     "metadata": {
      "needs_background": "light",
      "tags": []
     },
     "output_type": "display_data"
    }
   ],
   "source": [
    "### Five point summary of numerical attributes and check unique values in 'object' columns\n",
    "#print('Five point summary of the dataframe')\n",
    "#from pandas_datareader import data\n",
    "#dfs.describe(include = 'all')\n",
    "\n",
    "print('Selecting only Author, Product and \\'Score\\' column'); print('--'*40)\n",
    "ratings = pd.DataFrame()\n",
    "\n",
    "#a[[\"author\",\"product\",\"score\"]]= data[[\"author\",\"product\",\"score\"]]\n",
    "a = dfs[[\"author\",\"product\",\"score\"]].copy()\n",
    "ratings = a.head(150)\n",
    "\n",
    "fig = plt.figure(figsize = (15, 7.2))\n",
    "ax = fig.add_subplot(121)\n",
    "#g = sns.distplot(ratings['score'], ax = ax).set_title('Distribution of Ratings')\n",
    "ax = fig.add_subplot(122)\n",
    "g = sns.countplot(ratings['score']).set_title('Count of Ratings')"
   ]
  },
  {
   "cell_type": "markdown",
   "metadata": {
    "id": "NRKxurh5NtYP"
   },
   "source": [
    "Round off scores to the nearest integers"
   ]
  },
  {
   "cell_type": "code",
   "execution_count": null,
   "metadata": {
    "id": "mJCkfpG9et2S"
   },
   "outputs": [],
   "source": [
    "dfs['score'] = dfs['score'].round(0)"
   ]
  },
  {
   "cell_type": "markdown",
   "metadata": {
    "id": "NDMlkt0Xet2T"
   },
   "source": [
    "# Check for missing values. Impute the missing values if there is any"
   ]
  },
  {
   "cell_type": "code",
   "execution_count": null,
   "metadata": {
    "colab": {
     "base_uri": "https://localhost:8080/",
     "height": 402
    },
    "id": "i7DaxIimet2T",
    "outputId": "3ed11bf0-8ab9-4050-e1fb-8e48988d1512"
   },
   "outputs": [
    {
     "data": {
      "text/html": [
       "<div>\n",
       "<style scoped>\n",
       "    .dataframe tbody tr th:only-of-type {\n",
       "        vertical-align: middle;\n",
       "    }\n",
       "\n",
       "    .dataframe tbody tr th {\n",
       "        vertical-align: top;\n",
       "    }\n",
       "\n",
       "    .dataframe thead th {\n",
       "        text-align: right;\n",
       "    }\n",
       "</style>\n",
       "<table border=\"1\" class=\"dataframe\">\n",
       "  <thead>\n",
       "    <tr style=\"text-align: right;\">\n",
       "      <th></th>\n",
       "      <th>phone_url</th>\n",
       "      <th>date</th>\n",
       "      <th>lang</th>\n",
       "      <th>country</th>\n",
       "      <th>source</th>\n",
       "      <th>domain</th>\n",
       "      <th>score</th>\n",
       "      <th>score_max</th>\n",
       "      <th>extract</th>\n",
       "      <th>author</th>\n",
       "      <th>product</th>\n",
       "    </tr>\n",
       "  </thead>\n",
       "  <tbody>\n",
       "    <tr>\n",
       "      <th>0</th>\n",
       "      <td>False</td>\n",
       "      <td>False</td>\n",
       "      <td>False</td>\n",
       "      <td>False</td>\n",
       "      <td>False</td>\n",
       "      <td>False</td>\n",
       "      <td>False</td>\n",
       "      <td>False</td>\n",
       "      <td>False</td>\n",
       "      <td>False</td>\n",
       "      <td>False</td>\n",
       "    </tr>\n",
       "    <tr>\n",
       "      <th>1</th>\n",
       "      <td>False</td>\n",
       "      <td>False</td>\n",
       "      <td>False</td>\n",
       "      <td>False</td>\n",
       "      <td>False</td>\n",
       "      <td>False</td>\n",
       "      <td>False</td>\n",
       "      <td>False</td>\n",
       "      <td>False</td>\n",
       "      <td>False</td>\n",
       "      <td>False</td>\n",
       "    </tr>\n",
       "    <tr>\n",
       "      <th>2</th>\n",
       "      <td>False</td>\n",
       "      <td>False</td>\n",
       "      <td>False</td>\n",
       "      <td>False</td>\n",
       "      <td>False</td>\n",
       "      <td>False</td>\n",
       "      <td>False</td>\n",
       "      <td>False</td>\n",
       "      <td>False</td>\n",
       "      <td>False</td>\n",
       "      <td>False</td>\n",
       "    </tr>\n",
       "    <tr>\n",
       "      <th>3</th>\n",
       "      <td>False</td>\n",
       "      <td>False</td>\n",
       "      <td>False</td>\n",
       "      <td>False</td>\n",
       "      <td>False</td>\n",
       "      <td>False</td>\n",
       "      <td>False</td>\n",
       "      <td>False</td>\n",
       "      <td>False</td>\n",
       "      <td>False</td>\n",
       "      <td>False</td>\n",
       "    </tr>\n",
       "    <tr>\n",
       "      <th>4</th>\n",
       "      <td>False</td>\n",
       "      <td>False</td>\n",
       "      <td>False</td>\n",
       "      <td>False</td>\n",
       "      <td>False</td>\n",
       "      <td>False</td>\n",
       "      <td>False</td>\n",
       "      <td>False</td>\n",
       "      <td>False</td>\n",
       "      <td>False</td>\n",
       "      <td>False</td>\n",
       "    </tr>\n",
       "    <tr>\n",
       "      <th>...</th>\n",
       "      <td>...</td>\n",
       "      <td>...</td>\n",
       "      <td>...</td>\n",
       "      <td>...</td>\n",
       "      <td>...</td>\n",
       "      <td>...</td>\n",
       "      <td>...</td>\n",
       "      <td>...</td>\n",
       "      <td>...</td>\n",
       "      <td>...</td>\n",
       "      <td>...</td>\n",
       "    </tr>\n",
       "    <tr>\n",
       "      <th>163832</th>\n",
       "      <td>False</td>\n",
       "      <td>False</td>\n",
       "      <td>False</td>\n",
       "      <td>False</td>\n",
       "      <td>False</td>\n",
       "      <td>False</td>\n",
       "      <td>False</td>\n",
       "      <td>False</td>\n",
       "      <td>False</td>\n",
       "      <td>False</td>\n",
       "      <td>False</td>\n",
       "    </tr>\n",
       "    <tr>\n",
       "      <th>163833</th>\n",
       "      <td>False</td>\n",
       "      <td>False</td>\n",
       "      <td>False</td>\n",
       "      <td>False</td>\n",
       "      <td>False</td>\n",
       "      <td>False</td>\n",
       "      <td>False</td>\n",
       "      <td>False</td>\n",
       "      <td>False</td>\n",
       "      <td>False</td>\n",
       "      <td>False</td>\n",
       "    </tr>\n",
       "    <tr>\n",
       "      <th>163834</th>\n",
       "      <td>False</td>\n",
       "      <td>False</td>\n",
       "      <td>False</td>\n",
       "      <td>False</td>\n",
       "      <td>False</td>\n",
       "      <td>False</td>\n",
       "      <td>False</td>\n",
       "      <td>False</td>\n",
       "      <td>False</td>\n",
       "      <td>False</td>\n",
       "      <td>False</td>\n",
       "    </tr>\n",
       "    <tr>\n",
       "      <th>163835</th>\n",
       "      <td>False</td>\n",
       "      <td>False</td>\n",
       "      <td>False</td>\n",
       "      <td>False</td>\n",
       "      <td>False</td>\n",
       "      <td>False</td>\n",
       "      <td>False</td>\n",
       "      <td>False</td>\n",
       "      <td>False</td>\n",
       "      <td>False</td>\n",
       "      <td>False</td>\n",
       "    </tr>\n",
       "    <tr>\n",
       "      <th>163836</th>\n",
       "      <td>False</td>\n",
       "      <td>False</td>\n",
       "      <td>False</td>\n",
       "      <td>False</td>\n",
       "      <td>False</td>\n",
       "      <td>False</td>\n",
       "      <td>False</td>\n",
       "      <td>False</td>\n",
       "      <td>False</td>\n",
       "      <td>False</td>\n",
       "      <td>False</td>\n",
       "    </tr>\n",
       "  </tbody>\n",
       "</table>\n",
       "<p>1138507 rows × 11 columns</p>\n",
       "</div>"
      ],
      "text/plain": [
       "        phone_url   date   lang  country  source  domain  score  score_max  \\\n",
       "0           False  False  False    False   False   False  False      False   \n",
       "1           False  False  False    False   False   False  False      False   \n",
       "2           False  False  False    False   False   False  False      False   \n",
       "3           False  False  False    False   False   False  False      False   \n",
       "4           False  False  False    False   False   False  False      False   \n",
       "...           ...    ...    ...      ...     ...     ...    ...        ...   \n",
       "163832      False  False  False    False   False   False  False      False   \n",
       "163833      False  False  False    False   False   False  False      False   \n",
       "163834      False  False  False    False   False   False  False      False   \n",
       "163835      False  False  False    False   False   False  False      False   \n",
       "163836      False  False  False    False   False   False  False      False   \n",
       "\n",
       "        extract  author  product  \n",
       "0         False   False    False  \n",
       "1         False   False    False  \n",
       "2         False   False    False  \n",
       "3         False   False    False  \n",
       "4         False   False    False  \n",
       "...         ...     ...      ...  \n",
       "163832    False   False    False  \n",
       "163833    False   False    False  \n",
       "163834    False   False    False  \n",
       "163835    False   False    False  \n",
       "163836    False   False    False  \n",
       "\n",
       "[1138507 rows x 11 columns]"
      ]
     },
     "execution_count": 151,
     "metadata": {
      "tags": []
     },
     "output_type": "execute_result"
    }
   ],
   "source": [
    "dfs.isnull() "
   ]
  },
  {
   "cell_type": "code",
   "execution_count": null,
   "metadata": {
    "id": "tw4bgSMIet2T"
   },
   "outputs": [],
   "source": [
    "dfs.fillna(method ='pad') "
   ]
  },
  {
   "cell_type": "markdown",
   "metadata": {
    "id": "rzSNqkg7et2U"
   },
   "source": [
    "# Check for duplicate values and remove them if there is any"
   ]
  },
  {
   "cell_type": "code",
   "execution_count": null,
   "metadata": {
    "id": "r9sT9X6aet2U"
   },
   "outputs": [],
   "source": [
    "boolean = dfs.duplicated().any()"
   ]
  },
  {
   "cell_type": "code",
   "execution_count": null,
   "metadata": {
    "id": "l8ajyY2yet2V"
   },
   "outputs": [],
   "source": [
    "boolean"
   ]
  },
  {
   "cell_type": "code",
   "execution_count": null,
   "metadata": {
    "id": "1GEFZXj9et2V"
   },
   "outputs": [],
   "source": [
    "dfs = dfs.drop_duplicates()"
   ]
  },
  {
   "cell_type": "code",
   "execution_count": null,
   "metadata": {
    "id": "OXniXFbUet2V"
   },
   "outputs": [],
   "source": [
    "dfs"
   ]
  },
  {
   "cell_type": "markdown",
   "metadata": {
    "id": "1tgKaRE2et2W"
   },
   "source": [
    "# Keep only 1000000 data samples. Use random state=612"
   ]
  },
  {
   "cell_type": "code",
   "execution_count": null,
   "metadata": {
    "id": "y6rX-7eAet2W"
   },
   "outputs": [],
   "source": [
    "randomState = 612\n",
    "sampleSize = 1000000\n",
    "data = dfs.sample(n=sampleSize, random_state=randomState,replace=True)"
   ]
  },
  {
   "cell_type": "code",
   "execution_count": null,
   "metadata": {
    "colab": {
     "base_uri": "https://localhost:8080/",
     "height": 805
    },
    "id": "WoB7KyOket2W",
    "outputId": "08fcf90e-1057-4163-b369-41800eb4ef1d"
   },
   "outputs": [
    {
     "data": {
      "text/html": [
       "<div>\n",
       "<style scoped>\n",
       "    .dataframe tbody tr th:only-of-type {\n",
       "        vertical-align: middle;\n",
       "    }\n",
       "\n",
       "    .dataframe tbody tr th {\n",
       "        vertical-align: top;\n",
       "    }\n",
       "\n",
       "    .dataframe thead th {\n",
       "        text-align: right;\n",
       "    }\n",
       "</style>\n",
       "<table border=\"1\" class=\"dataframe\">\n",
       "  <thead>\n",
       "    <tr style=\"text-align: right;\">\n",
       "      <th></th>\n",
       "      <th>phone_url</th>\n",
       "      <th>date</th>\n",
       "      <th>lang</th>\n",
       "      <th>country</th>\n",
       "      <th>source</th>\n",
       "      <th>domain</th>\n",
       "      <th>score</th>\n",
       "      <th>score_max</th>\n",
       "      <th>extract</th>\n",
       "      <th>author</th>\n",
       "      <th>product</th>\n",
       "    </tr>\n",
       "  </thead>\n",
       "  <tbody>\n",
       "    <tr>\n",
       "      <th>169075</th>\n",
       "      <td>/cellphones/htc-wildfire/</td>\n",
       "      <td>9/17/2010</td>\n",
       "      <td>ru</td>\n",
       "      <td>ru</td>\n",
       "      <td>Yandex</td>\n",
       "      <td>market.yandex.ru</td>\n",
       "      <td>10.00</td>\n",
       "      <td>10.00</td>\n",
       "      <td>довольно сложно было освоиться после симбиана,...</td>\n",
       "      <td>frai05</td>\n",
       "      <td>HTC Wildfire</td>\n",
       "    </tr>\n",
       "    <tr>\n",
       "      <th>54014</th>\n",
       "      <td>/cellphones/apple-iphone-5s/</td>\n",
       "      <td>1/15/2014</td>\n",
       "      <td>ru</td>\n",
       "      <td>ru</td>\n",
       "      <td>Связной</td>\n",
       "      <td>svyaznoy.ru</td>\n",
       "      <td>9.00</td>\n",
       "      <td>10.00</td>\n",
       "      <td>Пользуюсь данным телефоном уже около года.Рабо...</td>\n",
       "      <td>Анастасия</td>\n",
       "      <td>Apple iPhone 5s 16GB (серебристый)</td>\n",
       "    </tr>\n",
       "    <tr>\n",
       "      <th>113798</th>\n",
       "      <td>/cellphones/cubot-x9/</td>\n",
       "      <td>3/30/2015</td>\n",
       "      <td>en</td>\n",
       "      <td>gb</td>\n",
       "      <td>Amazon</td>\n",
       "      <td>amazon.co.uk</td>\n",
       "      <td>6.00</td>\n",
       "      <td>10.00</td>\n",
       "      <td>I was really looking forward to using this pho...</td>\n",
       "      <td>EV</td>\n",
       "      <td>2015 Newest CUBOT X9 5.0'' Octa Core Android 4...</td>\n",
       "    </tr>\n",
       "    <tr>\n",
       "      <th>89176</th>\n",
       "      <td>/cellphones/samsung-galaxy-s5-mini/</td>\n",
       "      <td>7/21/2016</td>\n",
       "      <td>de</td>\n",
       "      <td>de</td>\n",
       "      <td>Amazon</td>\n",
       "      <td>amazon.de</td>\n",
       "      <td>10.00</td>\n",
       "      <td>10.00</td>\n",
       "      <td>Gleich nach der bestellung ist bei mir angekom...</td>\n",
       "      <td>Amazon Kunde</td>\n",
       "      <td>Samsung Galaxy S5 mini Smartphone (4,5 Zoll (1...</td>\n",
       "    </tr>\n",
       "    <tr>\n",
       "      <th>338004</th>\n",
       "      <td>/cellphones/sony-ericsson-c902i/</td>\n",
       "      <td>12/9/2013</td>\n",
       "      <td>de</td>\n",
       "      <td>de</td>\n",
       "      <td>Amazon</td>\n",
       "      <td>amazon.de</td>\n",
       "      <td>10.00</td>\n",
       "      <td>10.00</td>\n",
       "      <td>Einfach nur ein super Handy ! Hochwertig in de...</td>\n",
       "      <td>groagassbek</td>\n",
       "      <td>Sony Ericsson C902 Luscious Red UMTS Handy</td>\n",
       "    </tr>\n",
       "    <tr>\n",
       "      <th>...</th>\n",
       "      <td>...</td>\n",
       "      <td>...</td>\n",
       "      <td>...</td>\n",
       "      <td>...</td>\n",
       "      <td>...</td>\n",
       "      <td>...</td>\n",
       "      <td>...</td>\n",
       "      <td>...</td>\n",
       "      <td>...</td>\n",
       "      <td>...</td>\n",
       "      <td>...</td>\n",
       "    </tr>\n",
       "    <tr>\n",
       "      <th>55539</th>\n",
       "      <td>/cellphones/nokia-1110/</td>\n",
       "      <td>7/29/2006</td>\n",
       "      <td>de</td>\n",
       "      <td>de</td>\n",
       "      <td>Ciao</td>\n",
       "      <td>ciao.de</td>\n",
       "      <td>10.00</td>\n",
       "      <td>10.00</td>\n",
       "      <td>Moin moin, jetzt möchte ich auch mal meinen Se...</td>\n",
       "      <td>Skater_Boy</td>\n",
       "      <td>Nokia 1110</td>\n",
       "    </tr>\n",
       "    <tr>\n",
       "      <th>71318</th>\n",
       "      <td>/cellphones/asus-zenfone-6/</td>\n",
       "      <td>2/22/2015</td>\n",
       "      <td>en</td>\n",
       "      <td>in</td>\n",
       "      <td>Amazon</td>\n",
       "      <td>amazon.in</td>\n",
       "      <td>8.00</td>\n",
       "      <td>10.00</td>\n",
       "      <td>It was good as of now.. but due to its big siz...</td>\n",
       "      <td>Tamilselvan</td>\n",
       "      <td>Asus Zenfone 6 16GB (Deep Black)</td>\n",
       "    </tr>\n",
       "    <tr>\n",
       "      <th>199579</th>\n",
       "      <td>/cellphones/samsung-i9500-galaxy-s-iv/</td>\n",
       "      <td>5/22/2014</td>\n",
       "      <td>en</td>\n",
       "      <td>in</td>\n",
       "      <td>Amazon</td>\n",
       "      <td>amazon.in</td>\n",
       "      <td>10.00</td>\n",
       "      <td>10.00</td>\n",
       "      <td>less in price best in trend. especially camera...</td>\n",
       "      <td>nareshraju</td>\n",
       "      <td>Samsung Galaxy S4 GT-I9500 (White Frost, 16GB)</td>\n",
       "    </tr>\n",
       "    <tr>\n",
       "      <th>150496</th>\n",
       "      <td>/cellphones/nokia-3210/</td>\n",
       "      <td>6/15/2000</td>\n",
       "      <td>de</td>\n",
       "      <td>de</td>\n",
       "      <td>Dooyoo</td>\n",
       "      <td>dooyoo.de</td>\n",
       "      <td>10.00</td>\n",
       "      <td>10.00</td>\n",
       "      <td>Seit Weihnachten bin ich Besitzer eines 3210 -...</td>\n",
       "      <td>Pieper</td>\n",
       "      <td>Nokia 3210</td>\n",
       "    </tr>\n",
       "    <tr>\n",
       "      <th>33788</th>\n",
       "      <td>/cellphones/lg-g3-d855-657484/</td>\n",
       "      <td>4/10/2015</td>\n",
       "      <td>fr</td>\n",
       "      <td>fr</td>\n",
       "      <td>Pixmania</td>\n",
       "      <td>pixmania.fr</td>\n",
       "      <td>2.00</td>\n",
       "      <td>10.00</td>\n",
       "      <td>Téléphone qui n'est pas compatible France</td>\n",
       "      <td>Vitor</td>\n",
       "      <td>LG G3 - Titane - 16 Go - 4G - Smartphone</td>\n",
       "    </tr>\n",
       "  </tbody>\n",
       "</table>\n",
       "<p>1000000 rows × 11 columns</p>\n",
       "</div>"
      ],
      "text/plain": [
       "                                     phone_url       date lang country  \\\n",
       "169075               /cellphones/htc-wildfire/  9/17/2010   ru      ru   \n",
       "54014             /cellphones/apple-iphone-5s/  1/15/2014   ru      ru   \n",
       "113798                   /cellphones/cubot-x9/  3/30/2015   en      gb   \n",
       "89176      /cellphones/samsung-galaxy-s5-mini/  7/21/2016   de      de   \n",
       "338004        /cellphones/sony-ericsson-c902i/  12/9/2013   de      de   \n",
       "...                                        ...        ...  ...     ...   \n",
       "55539                  /cellphones/nokia-1110/  7/29/2006   de      de   \n",
       "71318              /cellphones/asus-zenfone-6/  2/22/2015   en      in   \n",
       "199579  /cellphones/samsung-i9500-galaxy-s-iv/  5/22/2014   en      in   \n",
       "150496                 /cellphones/nokia-3210/  6/15/2000   de      de   \n",
       "33788           /cellphones/lg-g3-d855-657484/  4/10/2015   fr      fr   \n",
       "\n",
       "          source            domain  score  score_max  \\\n",
       "169075    Yandex  market.yandex.ru  10.00      10.00   \n",
       "54014    Связной       svyaznoy.ru   9.00      10.00   \n",
       "113798    Amazon      amazon.co.uk   6.00      10.00   \n",
       "89176     Amazon         amazon.de  10.00      10.00   \n",
       "338004    Amazon         amazon.de  10.00      10.00   \n",
       "...          ...               ...    ...        ...   \n",
       "55539       Ciao           ciao.de  10.00      10.00   \n",
       "71318     Amazon         amazon.in   8.00      10.00   \n",
       "199579    Amazon         amazon.in  10.00      10.00   \n",
       "150496    Dooyoo         dooyoo.de  10.00      10.00   \n",
       "33788   Pixmania       pixmania.fr   2.00      10.00   \n",
       "\n",
       "                                                  extract        author  \\\n",
       "169075  довольно сложно было освоиться после симбиана,...        frai05   \n",
       "54014   Пользуюсь данным телефоном уже около года.Рабо...     Анастасия   \n",
       "113798  I was really looking forward to using this pho...            EV   \n",
       "89176   Gleich nach der bestellung ist bei mir angekom...  Amazon Kunde   \n",
       "338004  Einfach nur ein super Handy ! Hochwertig in de...   groagassbek   \n",
       "...                                                   ...           ...   \n",
       "55539   Moin moin, jetzt möchte ich auch mal meinen Se...    Skater_Boy   \n",
       "71318   It was good as of now.. but due to its big siz...   Tamilselvan   \n",
       "199579  less in price best in trend. especially camera...    nareshraju   \n",
       "150496  Seit Weihnachten bin ich Besitzer eines 3210 -...        Pieper   \n",
       "33788           Téléphone qui n'est pas compatible France         Vitor   \n",
       "\n",
       "                                                  product  \n",
       "169075                                       HTC Wildfire  \n",
       "54014                  Apple iPhone 5s 16GB (серебристый)  \n",
       "113798  2015 Newest CUBOT X9 5.0'' Octa Core Android 4...  \n",
       "89176   Samsung Galaxy S5 mini Smartphone (4,5 Zoll (1...  \n",
       "338004         Sony Ericsson C902 Luscious Red UMTS Handy  \n",
       "...                                                   ...  \n",
       "55539                                          Nokia 1110  \n",
       "71318                    Asus Zenfone 6 16GB (Deep Black)  \n",
       "199579     Samsung Galaxy S4 GT-I9500 (White Frost, 16GB)  \n",
       "150496                                         Nokia 3210  \n",
       "33788            LG G3 - Titane - 16 Go - 4G - Smartphone  \n",
       "\n",
       "[1000000 rows x 11 columns]"
      ]
     },
     "execution_count": 158,
     "metadata": {
      "tags": []
     },
     "output_type": "execute_result"
    }
   ],
   "source": [
    "data"
   ]
  },
  {
   "cell_type": "code",
   "execution_count": null,
   "metadata": {
    "colab": {
     "base_uri": "https://localhost:8080/",
     "height": 110
    },
    "id": "DpKkFqq1et2X",
    "outputId": "3cd1cac4-26ea-459f-9da9-f3f42c191aac"
   },
   "outputs": [
    {
     "data": {
      "text/html": [
       "<div>\n",
       "<style scoped>\n",
       "    .dataframe tbody tr th:only-of-type {\n",
       "        vertical-align: middle;\n",
       "    }\n",
       "\n",
       "    .dataframe tbody tr th {\n",
       "        vertical-align: top;\n",
       "    }\n",
       "\n",
       "    .dataframe thead th {\n",
       "        text-align: right;\n",
       "    }\n",
       "</style>\n",
       "<table border=\"1\" class=\"dataframe\">\n",
       "  <thead>\n",
       "    <tr style=\"text-align: right;\">\n",
       "      <th></th>\n",
       "      <th>phone_url</th>\n",
       "      <th>date</th>\n",
       "      <th>lang</th>\n",
       "      <th>country</th>\n",
       "      <th>source</th>\n",
       "      <th>domain</th>\n",
       "      <th>score</th>\n",
       "      <th>score_max</th>\n",
       "      <th>extract</th>\n",
       "      <th>author</th>\n",
       "      <th>product</th>\n",
       "    </tr>\n",
       "  </thead>\n",
       "  <tbody>\n",
       "    <tr>\n",
       "      <th>104951</th>\n",
       "      <td>/cellphones/sony-xperia-z-ultra/</td>\n",
       "      <td>11/6/2013</td>\n",
       "      <td>en</td>\n",
       "      <td>gb</td>\n",
       "      <td>Amazon</td>\n",
       "      <td>amazon.co.uk</td>\n",
       "      <td>8.00</td>\n",
       "      <td>10.00</td>\n",
       "      <td>I purchased the Sony Xperia Z Ultra as a repla...</td>\n",
       "      <td>An Sionnach</td>\n",
       "      <td>Xperia Sony Xperia Z Ultra SIM-free Android Sm...</td>\n",
       "    </tr>\n",
       "  </tbody>\n",
       "</table>\n",
       "</div>"
      ],
      "text/plain": [
       "                               phone_url       date lang country  source  \\\n",
       "104951  /cellphones/sony-xperia-z-ultra/  11/6/2013   en      gb  Amazon   \n",
       "\n",
       "              domain  score  score_max  \\\n",
       "104951  amazon.co.uk   8.00      10.00   \n",
       "\n",
       "                                                  extract       author  \\\n",
       "104951  I purchased the Sony Xperia Z Ultra as a repla...  An Sionnach   \n",
       "\n",
       "                                                  product  \n",
       "104951  Xperia Sony Xperia Z Ultra SIM-free Android Sm...  "
      ]
     },
     "execution_count": 159,
     "metadata": {
      "tags": []
     },
     "output_type": "execute_result"
    }
   ],
   "source": [
    "data.loc[data['author'] == \"An Sionnach\"]"
   ]
  },
  {
   "cell_type": "markdown",
   "metadata": {
    "id": "dSQbZi9jet2X"
   },
   "source": [
    "# Drop irrelevant features. Keep features like Author, Product, and Score"
   ]
  },
  {
   "cell_type": "code",
   "execution_count": null,
   "metadata": {
    "id": "A-u3AZm1et2X"
   },
   "outputs": [],
   "source": [
    "data_sample = pd.DataFrame()\n",
    "data_sample[[\"author\",\"product\",\"score\",\"lang\",\"country\"]] = data[[\"author\",\"product\",\"score\",\"lang\",\"country\"]]"
   ]
  },
  {
   "cell_type": "code",
   "execution_count": null,
   "metadata": {
    "colab": {
     "base_uri": "https://localhost:8080/",
     "height": 402
    },
    "id": "63IZ-C-6et2Y",
    "outputId": "07b981ad-fc43-49a7-b3b3-7ddd83ab34c3"
   },
   "outputs": [
    {
     "data": {
      "text/html": [
       "<div>\n",
       "<style scoped>\n",
       "    .dataframe tbody tr th:only-of-type {\n",
       "        vertical-align: middle;\n",
       "    }\n",
       "\n",
       "    .dataframe tbody tr th {\n",
       "        vertical-align: top;\n",
       "    }\n",
       "\n",
       "    .dataframe thead th {\n",
       "        text-align: right;\n",
       "    }\n",
       "</style>\n",
       "<table border=\"1\" class=\"dataframe\">\n",
       "  <thead>\n",
       "    <tr style=\"text-align: right;\">\n",
       "      <th></th>\n",
       "      <th>author</th>\n",
       "      <th>product</th>\n",
       "      <th>score</th>\n",
       "      <th>lang</th>\n",
       "      <th>country</th>\n",
       "    </tr>\n",
       "  </thead>\n",
       "  <tbody>\n",
       "    <tr>\n",
       "      <th>169075</th>\n",
       "      <td>frai05</td>\n",
       "      <td>HTC Wildfire</td>\n",
       "      <td>10.00</td>\n",
       "      <td>ru</td>\n",
       "      <td>ru</td>\n",
       "    </tr>\n",
       "    <tr>\n",
       "      <th>54014</th>\n",
       "      <td>Анастасия</td>\n",
       "      <td>Apple iPhone 5s 16GB (серебристый)</td>\n",
       "      <td>9.00</td>\n",
       "      <td>ru</td>\n",
       "      <td>ru</td>\n",
       "    </tr>\n",
       "    <tr>\n",
       "      <th>113798</th>\n",
       "      <td>EV</td>\n",
       "      <td>2015 Newest CUBOT X9 5.0'' Octa Core Android 4...</td>\n",
       "      <td>6.00</td>\n",
       "      <td>en</td>\n",
       "      <td>gb</td>\n",
       "    </tr>\n",
       "    <tr>\n",
       "      <th>89176</th>\n",
       "      <td>Amazon Kunde</td>\n",
       "      <td>Samsung Galaxy S5 mini Smartphone (4,5 Zoll (1...</td>\n",
       "      <td>10.00</td>\n",
       "      <td>de</td>\n",
       "      <td>de</td>\n",
       "    </tr>\n",
       "    <tr>\n",
       "      <th>338004</th>\n",
       "      <td>groagassbek</td>\n",
       "      <td>Sony Ericsson C902 Luscious Red UMTS Handy</td>\n",
       "      <td>10.00</td>\n",
       "      <td>de</td>\n",
       "      <td>de</td>\n",
       "    </tr>\n",
       "    <tr>\n",
       "      <th>...</th>\n",
       "      <td>...</td>\n",
       "      <td>...</td>\n",
       "      <td>...</td>\n",
       "      <td>...</td>\n",
       "      <td>...</td>\n",
       "    </tr>\n",
       "    <tr>\n",
       "      <th>55539</th>\n",
       "      <td>Skater_Boy</td>\n",
       "      <td>Nokia 1110</td>\n",
       "      <td>10.00</td>\n",
       "      <td>de</td>\n",
       "      <td>de</td>\n",
       "    </tr>\n",
       "    <tr>\n",
       "      <th>71318</th>\n",
       "      <td>Tamilselvan</td>\n",
       "      <td>Asus Zenfone 6 16GB (Deep Black)</td>\n",
       "      <td>8.00</td>\n",
       "      <td>en</td>\n",
       "      <td>in</td>\n",
       "    </tr>\n",
       "    <tr>\n",
       "      <th>199579</th>\n",
       "      <td>nareshraju</td>\n",
       "      <td>Samsung Galaxy S4 GT-I9500 (White Frost, 16GB)</td>\n",
       "      <td>10.00</td>\n",
       "      <td>en</td>\n",
       "      <td>in</td>\n",
       "    </tr>\n",
       "    <tr>\n",
       "      <th>150496</th>\n",
       "      <td>Pieper</td>\n",
       "      <td>Nokia 3210</td>\n",
       "      <td>10.00</td>\n",
       "      <td>de</td>\n",
       "      <td>de</td>\n",
       "    </tr>\n",
       "    <tr>\n",
       "      <th>33788</th>\n",
       "      <td>Vitor</td>\n",
       "      <td>LG G3 - Titane - 16 Go - 4G - Smartphone</td>\n",
       "      <td>2.00</td>\n",
       "      <td>fr</td>\n",
       "      <td>fr</td>\n",
       "    </tr>\n",
       "  </tbody>\n",
       "</table>\n",
       "<p>1000000 rows × 5 columns</p>\n",
       "</div>"
      ],
      "text/plain": [
       "              author                                            product  \\\n",
       "169075        frai05                                       HTC Wildfire   \n",
       "54014      Анастасия                 Apple iPhone 5s 16GB (серебристый)   \n",
       "113798            EV  2015 Newest CUBOT X9 5.0'' Octa Core Android 4...   \n",
       "89176   Amazon Kunde  Samsung Galaxy S5 mini Smartphone (4,5 Zoll (1...   \n",
       "338004   groagassbek         Sony Ericsson C902 Luscious Red UMTS Handy   \n",
       "...              ...                                                ...   \n",
       "55539     Skater_Boy                                         Nokia 1110   \n",
       "71318    Tamilselvan                   Asus Zenfone 6 16GB (Deep Black)   \n",
       "199579    nareshraju     Samsung Galaxy S4 GT-I9500 (White Frost, 16GB)   \n",
       "150496        Pieper                                         Nokia 3210   \n",
       "33788          Vitor           LG G3 - Titane - 16 Go - 4G - Smartphone   \n",
       "\n",
       "        score lang country  \n",
       "169075  10.00   ru      ru  \n",
       "54014    9.00   ru      ru  \n",
       "113798   6.00   en      gb  \n",
       "89176   10.00   de      de  \n",
       "338004  10.00   de      de  \n",
       "...       ...  ...     ...  \n",
       "55539   10.00   de      de  \n",
       "71318    8.00   en      in  \n",
       "199579  10.00   en      in  \n",
       "150496  10.00   de      de  \n",
       "33788    2.00   fr      fr  \n",
       "\n",
       "[1000000 rows x 5 columns]"
      ]
     },
     "execution_count": 161,
     "metadata": {
      "tags": []
     },
     "output_type": "execute_result"
    }
   ],
   "source": [
    "data_sample"
   ]
  },
  {
   "cell_type": "markdown",
   "metadata": {
    "id": "N0Vp4xuAet2Y"
   },
   "source": [
    "# Recommenders\n",
    "We will explore following methods of making recommendations:\n",
    "\n",
    "Popularity based recommendations\n",
    "\n",
    "Collaborative filtering (User-based and Item-based recommendations)"
   ]
  },
  {
   "cell_type": "code",
   "execution_count": null,
   "metadata": {
    "colab": {
     "base_uri": "https://localhost:8080/",
     "height": 50
    },
    "id": "IYXJ7mFhet2Z",
    "outputId": "986ff249-05fb-4cde-b498-8bbf5549daca"
   },
   "outputs": [
    {
     "data": {
      "text/plain": [
       "(700000, 5)"
      ]
     },
     "metadata": {
      "tags": []
     },
     "output_type": "display_data"
    },
    {
     "data": {
      "text/plain": [
       "(300000, 5)"
      ]
     },
     "metadata": {
      "tags": []
     },
     "output_type": "display_data"
    }
   ],
   "source": [
    "train_data, test_data = train_test_split(data_sample, test_size = 0.30)\n",
    "display(train_data.shape, test_data.shape)"
   ]
  },
  {
   "cell_type": "markdown",
   "metadata": {
    "id": "qB9sROipet2Z"
   },
   "source": [
    "# Popularity based recommendations\n",
    "Create a class to make recommendation using popularity based method.\n",
    "\n",
    "Get top 5 recommendations for couple of users, recommendations are based on the Rating means for the Product IDs. However will \n",
    "later explore other methods as well.\n",
    "\n",
    "Comment on the findings."
   ]
  },
  {
   "cell_type": "code",
   "execution_count": null,
   "metadata": {
    "id": "vJ5oKNuuet2Z"
   },
   "outputs": [],
   "source": [
    "#Class for Popularity based Recommender System\n",
    "class popularity_recommender():   \n",
    "    def __init__(self):\n",
    "      self.trainSet = None\n",
    "      self.author = None\n",
    "      self.product = None\n",
    "      self.popularityRecommendations = None\n",
    "      self.topN = None\n",
    "    def create(self, trainSet, author, product, topN):\n",
    "      self.trainSet = trainSet\n",
    "      self.author = author\n",
    "      self.product = product\n",
    "      self.topN = topN\n",
    "\n",
    "      byscore = self.trainSet.groupby('product', sort = False, as_index = False)['score'].mean().sort_values(by = 'score', ascending = False)\n",
    "      byscore['scoreRank'] = byscore['score'].rank(ascending = False, method = 'first')\n",
    "\n",
    "      byUsers = self.trainSet.groupby('product', sort = False, as_index = False)['score'].count().sort_values(by = 'score', ascending = False)\n",
    "      byUsers.columns = ['product', 'scoreCount']\n",
    "      \n",
    "      byscoreUsers = pd.merge(byscore, byUsers, on = 'product', how = 'left')\n",
    "      byscoreUsers = byscoreUsers.sort_values(by = 'scoreRank', ascending = False)\n",
    "\n",
    "      self.popularity_recommendations = byscore.head(self.topN)\n",
    "      return byscoreUsers\n",
    "\n",
    "    def recommend(self, user_id):            \n",
    "      user_recommendations = self.popularity_recommendations\n",
    "      \n",
    "      user_recommendations['author'] = user_id\n",
    "      \n",
    "      cols = user_recommendations.columns.tolist()\n",
    "      cols = cols[-1:] + cols[:-1]\n",
    "      user_recommendations = user_recommendations[cols]\n",
    "      try:\n",
    "        print('User has already rated products (from data in training set): {}'.format(self.trainSet.loc[(self.trainSet['author'] == user_id), 'product'].nunique()))\n",
    "        print('Top 5 products from what\\'s already being rated: {}'.format(list(self.trainSet[(self.trainSet['author'] == user_id)].sort_values(by = 'score', ascending = False).head(5)['product'])))\n",
    "      except:\n",
    "        print('There\\'s no data for the selected user in training set')\n",
    "      print('\\nTop 5 recommendations for the user based on popularity based method: {}'.format(list(user_recommendations['product'])))\n",
    "      return list(user_recommendations['product'])\n"
   ]
  },
  {
   "cell_type": "code",
   "execution_count": null,
   "metadata": {
    "colab": {
     "base_uri": "https://localhost:8080/"
    },
    "id": "YSu5wFtzet2b",
    "outputId": "435b26dd-976a-48cc-c3d6-bcfb73306730"
   },
   "outputs": [
    {
     "name": "stdout",
     "output_type": "stream",
     "text": [
      "Popularity recommendation is based on the mean of Ratings received and not Rating counts, later we will explore other methods as well.\n",
      "Get top - K ( K = 5) recommendations.\n",
      "Since our goal is to recommend new products to each user based on his/her habits, we will recommend 5 new products.\n",
      "--------------------------------------------------------------------------------\n"
     ]
    }
   ],
   "source": [
    "# Get top 5 recommendations\n",
    "print('Popularity recommendation is based on the mean of Ratings received and not Rating counts, later we will explore other methods as well.')\n",
    "print('Get top - K ( K = 5) recommendations.')\n",
    "print('Since our goal is to recommend new products to each user based on his/her habits, we will recommend 5 new products.'); print('--'*40)\n",
    "compare_dict = {}; result = {}\n",
    "popularity = popularity_recommender()\n",
    "byscoreUsers = popularity.create(train_data, 'author', 'product', 5)\n",
    "\n"
   ]
  },
  {
   "cell_type": "code",
   "execution_count": null,
   "metadata": {
    "colab": {
     "base_uri": "https://localhost:8080/"
    },
    "id": "GNjfjMwnet2b",
    "outputId": "c50fcd48-a18c-4b67-ca50-a56e28890874"
   },
   "outputs": [
    {
     "name": "stdout",
     "output_type": "stream",
     "text": [
      "\n",
      "Make recommendation for the user id selected from the testset = \"Vinod Kumar Chengespur\"\n",
      "--------------------------------------------------------------------------------\n",
      "User has already rated products (from data in training set): 0\n",
      "Top 5 products from what's already being rated: []\n",
      "\n",
      "Top 5 recommendations for the user based on popularity based method: ['Lg Gt350 Town', 'LG Smartphone LG G2 Desbloqueador Gold Processador Quad-Core2,26...', 'NOKIA 6500 SLIDE CEP TELEFONU', 'Nokia 301 DS', 'Huawei Y5 LTE-Smartphone 11.4 cm (4.5 Zoll) 1.1 GHz Quad Core 8 GB 5 Mio. Pixel Android 5.1 Lollipop Schwarz']\n",
      "\n",
      "\n",
      "Make recommendation for the user id selected from the testset = \"Jomine Jose\"\n",
      "--------------------------------------------------------------------------------\n",
      "User has already rated products (from data in training set): 1\n",
      "Top 5 products from what's already being rated: ['Lava Iris X5 (Black)', 'Lava Iris X5 (Black)']\n",
      "\n",
      "Top 5 recommendations for the user based on popularity based method: ['Lg Gt350 Town', 'LG Smartphone LG G2 Desbloqueador Gold Processador Quad-Core2,26...', 'NOKIA 6500 SLIDE CEP TELEFONU', 'Nokia 301 DS', 'Huawei Y5 LTE-Smartphone 11.4 cm (4.5 Zoll) 1.1 GHz Quad Core 8 GB 5 Mio. Pixel Android 5.1 Lollipop Schwarz']\n"
     ]
    }
   ],
   "source": [
    "print('\\nMake recommendation for the user id selected from the testset = \"Vinod Kumar Chengespur\"'); print('--'*40)\n",
    "user_id = \"Vinod Kumar Chengespur\"\n",
    "result[user_id] = popularity.recommend(user_id)\n",
    "\n",
    "print('\\n\\nMake recommendation for the user id selected from the testset = \"Jomine Jose\"'); print('--'*40)\n",
    "user_id = \"Jomine Jose\"\n",
    "result[user_id] = popularity.recommend(user_id)"
   ]
  },
  {
   "cell_type": "code",
   "execution_count": null,
   "metadata": {
    "colab": {
     "base_uri": "https://localhost:8080/"
    },
    "id": "1NsQCDuset2b",
    "outputId": "bf821928-ea2c-42a7-c8a8-26a530f198e3"
   },
   "outputs": [
    {
     "name": "stdout",
     "output_type": "stream",
     "text": [
      "Store the recommendations in a dictionary\n",
      "--------------------------------------------------------------------------------\n"
     ]
    }
   ],
   "source": [
    "print('Store the recommendations in a dictionary'); print('--'*40)\n",
    "compare_dict['PopularityRec'] = result"
   ]
  },
  {
   "cell_type": "code",
   "execution_count": null,
   "metadata": {
    "colab": {
     "base_uri": "https://localhost:8080/"
    },
    "id": "_Gf7Fupjet2c",
    "outputId": "6dbb74dc-192b-45e0-ae1e-c765a289a891"
   },
   "outputs": [
    {
     "name": "stdout",
     "output_type": "stream",
     "text": [
      "Evaluating Popularity based Recommender\n",
      "Creating a new dataframe with mean score for each product in test dataframe and using our prediction dataframe i.e. byscoreUsers to calculate RMSE\n",
      "--------------------------------------------------------------------------------\n",
      "Shape of test mean dataframe: (32534, 3)\n",
      "Shape of predicted (recommender) dataframe: (39656, 4)\n",
      "--------------------------------------------------------------------------------\n",
      "RMSE OF THE POPULARITY BASED RECOMMENDER: 2.639\n"
     ]
    }
   ],
   "source": [
    "print('Evaluating Popularity based Recommender')\n",
    "print('Creating a new dataframe with mean score for each product in test dataframe and using our prediction dataframe i.e. byscoreUsers to calculate RMSE'); print('--'*40)\n",
    "test_means = test_data.groupby('product', sort = False, as_index = False)['score'].mean().sort_values(by = 'score', ascending = False)\n",
    "test_means = test_means.merge(byscoreUsers, on = 'product', how = 'left', suffixes=('_act', '_pred')).drop(['scoreRank', 'scoreCount'], axis = 1).fillna(0)\n",
    "print('Shape of test mean dataframe: {}'.format(test_means.shape))\n",
    "print('Shape of predicted (recommender) dataframe: {}'.format(byscoreUsers.shape))\n",
    "\n",
    "import math\n",
    "RMSE_pop = math.sqrt(mean_squared_error(test_means['score_act'], test_means['score_pred']))\n",
    "print('--' * 40)\n",
    "print('RMSE OF THE POPULARITY BASED RECOMMENDER: {}'.format(round(RMSE_pop, 4)))"
   ]
  },
  {
   "cell_type": "code",
   "execution_count": null,
   "metadata": {
    "colab": {
     "base_uri": "https://localhost:8080/",
     "height": 423
    },
    "id": "El3nkvN2et2c",
    "outputId": "135c20e0-1755-4448-e413-d38dde0970ba"
   },
   "outputs": [
    {
     "name": "stdout",
     "output_type": "stream",
     "text": [
      "Recommendations based on mean of Rating, which is the method used above\n",
      "--------------------------------------------------------------------------------\n"
     ]
    },
    {
     "data": {
      "text/plain": [
       "['Lg Gt350 Town',\n",
       " 'LG Smartphone LG G2 Desbloqueador Gold Processador Quad-Core2,26...',\n",
       " 'NOKIA 6500 SLIDE CEP TELEFONU',\n",
       " 'Nokia 301 DS',\n",
       " 'Huawei Y5 LTE-Smartphone 11.4 cm (4.5 Zoll) 1.1 GHz Quad Core 8 GB 5 Mio. Pixel Android 5.1 Lollipop Schwarz']"
      ]
     },
     "metadata": {
      "tags": []
     },
     "output_type": "display_data"
    },
    {
     "name": "stdout",
     "output_type": "stream",
     "text": [
      "\n",
      "Recommendations based on count of Rating\n",
      "--------------------------------------------------------------------------------\n"
     ]
    },
    {
     "data": {
      "text/plain": [
       "['Lenovo Vibe K4 Note (White,16GB)',\n",
       " 'Lenovo Vibe K4 Note (Black, 16GB)',\n",
       " 'Lenovo Vibe K5 (Gold, VoLTE update)',\n",
       " 'Lenovo Vibe K5 (Grey, VoLTE update)',\n",
       " 'Nokia 5800 XpressMusic']"
      ]
     },
     "metadata": {
      "tags": []
     },
     "output_type": "display_data"
    },
    {
     "name": "stdout",
     "output_type": "stream",
     "text": [
      "\n",
      "Recommendations based on a mix of mean and count of Rating\n",
      "--------------------------------------------------------------------------------\n"
     ]
    },
    {
     "data": {
      "text/plain": [
       "['Motorola Smartphone Motorola Moto X Desbloqueado Preto Android 4.2.2 Câmera 10MP e Frontal 2MP Memória Interna de 16GB GSM',\n",
       " 'Nokia Smartphone Nokia Lumia 520 Desbloqueado Oi Preto Windows Phone 8 Câmera 5MP 3G Wi-Fi Memória Interna 8G GPS',\n",
       " 'Apple iPhone 4S Branco 8GB - Apple',\n",
       " 'Samsung Smartphone Galaxy Win Duos Branco Desbloqueado Dual Chip Câmera 5MP Processador Quad Core 1.2 Ghz Android 4.1 3G Wi- Fi e Memória 8GB',\n",
       " 'Samsung Smartphone Dual Chip Samsung Galaxy SIII Duos Desbloqueado Claro Azul Android 4.1 3G/Wi-Fi Câmera 5MP']"
      ]
     },
     "metadata": {
      "tags": []
     },
     "output_type": "display_data"
    }
   ],
   "source": [
    "print('Recommendations based on mean of Rating, which is the method used above'); print('--'*40)\n",
    "display(byscoreUsers.sort_values(by = 'scoreRank', ascending = True).head(5)['product'].tolist())\n",
    "\n",
    "print('\\nRecommendations based on count of Rating'); print('--'*40)\n",
    "display(byscoreUsers.sort_values(by = 'scoreCount', ascending = False).head(5)['product'].tolist())\n",
    "\n",
    "print('\\nRecommendations based on a mix of mean and count of Rating'); print('--'*40)\n",
    "display(byscoreUsers.sort_values(by = ['score', 'scoreCount'], ascending = False).head(5)['product'].tolist())"
   ]
  },
  {
   "cell_type": "markdown",
   "metadata": {},
   "source": [
    "# Popularity Based Recommendation"
   ]
  },
  {
   "cell_type": "markdown",
   "metadata": {
    "id": "fy_RCC-Yet2e"
   },
   "source": [
    "\n",
    "\n",
    "For popularity recommendation system, we recommended products based on mean of Ratings given by users. We saw that the top 5 products which we recommended to users are those where only 1 user from the training set has rated.\n",
    "\n",
    "Then we also explored other methods for popularity recommendations. Those were based on:\n",
    "Count of Ratings received for the product\n",
    "Hybrid method for popularity recommendation where in we used both mean and count of rating to decide on the product recommended\n",
    "For all of the above cases (recommendations based on mean, count, and mean and count), popularity based method lacks personalization i.e. same recommendations for all users. However, using Popularity based recommendation system it would easier to recommend products to a new user w/o having knowledge about who the users are or what their preferences are and recommending them the products that are in-trend.\n",
    "RMSE of the popularity based recommendation method using mean of rating is 3.0894.\n"
   ]
  },
  {
   "cell_type": "markdown",
   "metadata": {},
   "source": [
    "# Collaborative Filtering"
   ]
  },
  {
   "cell_type": "markdown",
   "metadata": {},
   "source": [
    "\n",
    "Objective is to build a recommendation system to recommend products to customers based on their previous ratings for other products i.e. item-based collaborative filtering.\n",
    "\n",
    "\"You tend to like that item because you've liked those items.\"\n",
    "\n",
    "whereas as we know that in user-based it's \"You may like it because your friends liked it\".\n",
    "\n",
    "Model-based Collaborative Filtering: Singular Value Decomposition and evaluate k-NN based algos.\n",
    "Use the filtered ratings dataframe and scipy based SVD to evaluate Item-based collaborative filtering method for suggesting products based to users based on what he has liked in past.\n",
    "Also explore user based collaborative filtering.\n",
    "Comment on the findings."
   ]
  },
  {
   "cell_type": "markdown",
   "metadata": {
    "id": "Gx2mmKpuet2f"
   },
   "source": [
    "# Model based Collaborative Filtering: SVD"
   ]
  },
  {
   "cell_type": "code",
   "execution_count": null,
   "metadata": {
    "colab": {
     "base_uri": "https://localhost:8080/"
    },
    "id": "HJVvJ-WQet2f",
    "outputId": "40ef623f-6282-40d6-d66c-d6fdd8be0fba"
   },
   "outputs": [
    {
     "name": "stdout",
     "output_type": "stream",
     "text": [
      "Selecting only UserID, ProductID and 'Rating' column\n",
      "--------------------------------------------------------------------------------\n"
     ]
    }
   ],
   "source": [
    "print('Selecting only UserID, ProductID and \\'Rating\\' column'); print('--'*40)\n",
    "ratings = pd.DataFrame()\n",
    "\n",
    "#a[[\"author\",\"product\",\"score\"]]= data[[\"author\",\"product\",\"score\"]]\n",
    "a = data[[\"author\",\"product\",\"score\"]].copy()\n",
    "ratings = a.head(150)"
   ]
  },
  {
   "cell_type": "code",
   "execution_count": null,
   "metadata": {
    "colab": {
     "base_uri": "https://localhost:8080/",
     "height": 727
    },
    "id": "j6hqnEPxet2g",
    "outputId": "a4fa579c-a601-4e2b-e837-d26368592437"
   },
   "outputs": [
    {
     "name": "stdout",
     "output_type": "stream",
     "text": [
      "Matrix with one row per 'Product' and one column per 'User' for Item-based collaborative filtering\n",
      "--------------------------------------------------------------------------------\n"
     ]
    },
    {
     "data": {
      "text/html": [
       "<div>\n",
       "<style scoped>\n",
       "    .dataframe tbody tr th:only-of-type {\n",
       "        vertical-align: middle;\n",
       "    }\n",
       "\n",
       "    .dataframe tbody tr th {\n",
       "        vertical-align: top;\n",
       "    }\n",
       "\n",
       "    .dataframe thead th {\n",
       "        text-align: right;\n",
       "    }\n",
       "</style>\n",
       "<table border=\"1\" class=\"dataframe\">\n",
       "  <thead>\n",
       "    <tr style=\"text-align: right;\">\n",
       "      <th>product</th>\n",
       "      <th>2015 Newest CUBOT X9 5.0'' Octa Core Android 4.4 Kitkat OS Unlocked 3G Smartphone -- IPS HD Touchscreen HotKnot MTK6592 Dual SIM Dual Standby Mobile Phone 2G RAM 16G ROM WIFI OTG GPS Finger Gesture Air Gesture Cellphone 3G Phablet (Golden)</th>\n",
       "      <th>Alcatel One Touch Pop C7 7041D Smartphone (12,7 cm (5 Zoll) Touchscreen, 1,3GHz, Quad-Core, 4GB interner Speicher, 5 Megapixel Kamera, Android 4.2) full white</th>\n",
       "      <th>Alcatel One Touch Scribe HD Smartphone (12,7 cm (5 Zoll) Touchscreen, 1,2GHz, Quad-Core, 1GB RAM, 4GB interner Speicher, 8 Megapixel Kamera, Android 4.2) weiß</th>\n",
       "      <th>Alcatel Onetouch Pixi 3 - Smartphone libre Android (pantalla 4\", cámara 3 Mp, 4 GB, Dual-Core 1 GHz, 512 MB RAM), blanco</th>\n",
       "      <th>Apple iPhone 3G</th>\n",
       "      <th>Apple iPhone 4 32GB schwarz ohne Simlock</th>\n",
       "      <th>Apple iPhone 4s, Sprint Locked, 16GB, White</th>\n",
       "      <th>Apple iPhone 5 16GB 4G LTE Black - Cricket</th>\n",
       "      <th>Apple iPhone 5S, 64 GB, Zlatý</th>\n",
       "      <th>Apple iPhone 5c 16GB White SIM-Free Smartphone (discontinued by manufacturer)</th>\n",
       "      <th>...</th>\n",
       "      <th>Sony Xperia miro</th>\n",
       "      <th>Sony-Ericsson S302</th>\n",
       "      <th>Straight Talk iPhone 5 Prepaid Cell Phone, 16 GB, Black</th>\n",
       "      <th>T-Mobile Comet Prepaid Android Phone (T-Mobile)</th>\n",
       "      <th>T-Mobile Sparq Prepaid Phone (T-Mobile)</th>\n",
       "      <th>ThL W200,Quad Core 5,0\" pollici Android 4.2 MTK6589T SmartPhone \"ThL W200\" - 1.5GHz, 8GB di ROM, 8.0MP fotocamera...</th>\n",
       "      <th>ViewSonic V350 Smartphone mit Dual Sim (8,9 cm (3,5 Zoll) Touchscreen, 5 Megapixel Kamera, Android 2.3)</th>\n",
       "      <th>Wiko Rainbow Smartphone (12,7 cm (5 Zoll) Display 4 GB interner Speicher, Android 4.2) pink</th>\n",
       "      <th>YU Yuphoria YU5010A (Black+Silver)</th>\n",
       "      <th>i-mate JAMA</th>\n",
       "    </tr>\n",
       "    <tr>\n",
       "      <th>author</th>\n",
       "      <th></th>\n",
       "      <th></th>\n",
       "      <th></th>\n",
       "      <th></th>\n",
       "      <th></th>\n",
       "      <th></th>\n",
       "      <th></th>\n",
       "      <th></th>\n",
       "      <th></th>\n",
       "      <th></th>\n",
       "      <th></th>\n",
       "      <th></th>\n",
       "      <th></th>\n",
       "      <th></th>\n",
       "      <th></th>\n",
       "      <th></th>\n",
       "      <th></th>\n",
       "      <th></th>\n",
       "      <th></th>\n",
       "      <th></th>\n",
       "      <th></th>\n",
       "    </tr>\n",
       "  </thead>\n",
       "  <tbody>\n",
       "    <tr>\n",
       "      <th>NaN</th>\n",
       "      <td>0.00</td>\n",
       "      <td>0.00</td>\n",
       "      <td>0.00</td>\n",
       "      <td>0.00</td>\n",
       "      <td>0.00</td>\n",
       "      <td>0.00</td>\n",
       "      <td>0.00</td>\n",
       "      <td>0.00</td>\n",
       "      <td>0.00</td>\n",
       "      <td>0.00</td>\n",
       "      <td>...</td>\n",
       "      <td>8.00</td>\n",
       "      <td>0.00</td>\n",
       "      <td>0.00</td>\n",
       "      <td>0.00</td>\n",
       "      <td>0.00</td>\n",
       "      <td>0.00</td>\n",
       "      <td>0.00</td>\n",
       "      <td>0.00</td>\n",
       "      <td>0.00</td>\n",
       "      <td>0.00</td>\n",
       "    </tr>\n",
       "    <tr>\n",
       "      <th>??????????????</th>\n",
       "      <td>0.00</td>\n",
       "      <td>0.00</td>\n",
       "      <td>0.00</td>\n",
       "      <td>0.00</td>\n",
       "      <td>0.00</td>\n",
       "      <td>0.00</td>\n",
       "      <td>0.00</td>\n",
       "      <td>0.00</td>\n",
       "      <td>0.00</td>\n",
       "      <td>0.00</td>\n",
       "      <td>...</td>\n",
       "      <td>0.00</td>\n",
       "      <td>0.00</td>\n",
       "      <td>0.00</td>\n",
       "      <td>0.00</td>\n",
       "      <td>0.00</td>\n",
       "      <td>0.00</td>\n",
       "      <td>0.00</td>\n",
       "      <td>0.00</td>\n",
       "      <td>0.00</td>\n",
       "      <td>0.00</td>\n",
       "    </tr>\n",
       "    <tr>\n",
       "      <th>????????????????</th>\n",
       "      <td>0.00</td>\n",
       "      <td>0.00</td>\n",
       "      <td>0.00</td>\n",
       "      <td>0.00</td>\n",
       "      <td>0.00</td>\n",
       "      <td>0.00</td>\n",
       "      <td>0.00</td>\n",
       "      <td>0.00</td>\n",
       "      <td>0.00</td>\n",
       "      <td>0.00</td>\n",
       "      <td>...</td>\n",
       "      <td>0.00</td>\n",
       "      <td>0.00</td>\n",
       "      <td>0.00</td>\n",
       "      <td>0.00</td>\n",
       "      <td>0.00</td>\n",
       "      <td>0.00</td>\n",
       "      <td>0.00</td>\n",
       "      <td>0.00</td>\n",
       "      <td>0.00</td>\n",
       "      <td>0.00</td>\n",
       "    </tr>\n",
       "    <tr>\n",
       "      <th>?????€??????????????</th>\n",
       "      <td>0.00</td>\n",
       "      <td>0.00</td>\n",
       "      <td>0.00</td>\n",
       "      <td>0.00</td>\n",
       "      <td>0.00</td>\n",
       "      <td>0.00</td>\n",
       "      <td>0.00</td>\n",
       "      <td>0.00</td>\n",
       "      <td>0.00</td>\n",
       "      <td>0.00</td>\n",
       "      <td>...</td>\n",
       "      <td>0.00</td>\n",
       "      <td>0.00</td>\n",
       "      <td>0.00</td>\n",
       "      <td>0.00</td>\n",
       "      <td>0.00</td>\n",
       "      <td>0.00</td>\n",
       "      <td>0.00</td>\n",
       "      <td>0.00</td>\n",
       "      <td>0.00</td>\n",
       "      <td>0.00</td>\n",
       "    </tr>\n",
       "    <tr>\n",
       "      <th>AZIRMIR</th>\n",
       "      <td>0.00</td>\n",
       "      <td>0.00</td>\n",
       "      <td>0.00</td>\n",
       "      <td>0.00</td>\n",
       "      <td>0.00</td>\n",
       "      <td>0.00</td>\n",
       "      <td>0.00</td>\n",
       "      <td>0.00</td>\n",
       "      <td>0.00</td>\n",
       "      <td>0.00</td>\n",
       "      <td>...</td>\n",
       "      <td>0.00</td>\n",
       "      <td>0.00</td>\n",
       "      <td>0.00</td>\n",
       "      <td>0.00</td>\n",
       "      <td>0.00</td>\n",
       "      <td>0.00</td>\n",
       "      <td>0.00</td>\n",
       "      <td>0.00</td>\n",
       "      <td>0.00</td>\n",
       "      <td>0.00</td>\n",
       "    </tr>\n",
       "  </tbody>\n",
       "</table>\n",
       "<p>5 rows × 145 columns</p>\n",
       "</div>"
      ],
      "text/plain": [
       "product               2015 Newest CUBOT X9 5.0'' Octa Core Android 4.4 Kitkat OS Unlocked 3G Smartphone -- IPS HD Touchscreen HotKnot MTK6592 Dual SIM Dual Standby Mobile Phone 2G RAM 16G ROM WIFI OTG GPS Finger Gesture Air Gesture Cellphone 3G Phablet (Golden)  \\\n",
       "author                                                                                                                                                                                                                                                                  \n",
       "NaN                                                                0.00                                                                                                                                                                                                 \n",
       "??????????????                                                     0.00                                                                                                                                                                                                 \n",
       "????????????????                                                   0.00                                                                                                                                                                                                 \n",
       "?????€??????????????                                               0.00                                                                                                                                                                                                 \n",
       "AZIRMIR                                                            0.00                                                                                                                                                                                                 \n",
       "\n",
       "product               Alcatel One Touch Pop C7 7041D Smartphone (12,7 cm (5 Zoll) Touchscreen, 1,3GHz, Quad-Core, 4GB interner Speicher, 5 Megapixel Kamera, Android 4.2) full white  \\\n",
       "author                                                                                                                                                                                 \n",
       "NaN                                                                0.00                                                                                                                \n",
       "??????????????                                                     0.00                                                                                                                \n",
       "????????????????                                                   0.00                                                                                                                \n",
       "?????€??????????????                                               0.00                                                                                                                \n",
       "AZIRMIR                                                            0.00                                                                                                                \n",
       "\n",
       "product               Alcatel One Touch Scribe HD Smartphone (12,7 cm (5 Zoll) Touchscreen, 1,2GHz, Quad-Core, 1GB RAM, 4GB interner Speicher, 8 Megapixel Kamera, Android 4.2) weiß  \\\n",
       "author                                                                                                                                                                                 \n",
       "NaN                                                                0.00                                                                                                                \n",
       "??????????????                                                     0.00                                                                                                                \n",
       "????????????????                                                   0.00                                                                                                                \n",
       "?????€??????????????                                               0.00                                                                                                                \n",
       "AZIRMIR                                                            0.00                                                                                                                \n",
       "\n",
       "product               Alcatel Onetouch Pixi 3 - Smartphone libre Android (pantalla 4\", cámara 3 Mp, 4 GB, Dual-Core 1 GHz, 512 MB RAM), blanco  \\\n",
       "author                                                                                                                                           \n",
       "NaN                                                                0.00                                                                          \n",
       "??????????????                                                     0.00                                                                          \n",
       "????????????????                                                   0.00                                                                          \n",
       "?????€??????????????                                               0.00                                                                          \n",
       "AZIRMIR                                                            0.00                                                                          \n",
       "\n",
       "product               Apple iPhone 3G  \\\n",
       "author                                  \n",
       "NaN                              0.00   \n",
       "??????????????                   0.00   \n",
       "????????????????                 0.00   \n",
       "?????€??????????????             0.00   \n",
       "AZIRMIR                          0.00   \n",
       "\n",
       "product               Apple iPhone 4 32GB schwarz ohne Simlock  \\\n",
       "author                                                           \n",
       "NaN                                                       0.00   \n",
       "??????????????                                            0.00   \n",
       "????????????????                                          0.00   \n",
       "?????€??????????????                                      0.00   \n",
       "AZIRMIR                                                   0.00   \n",
       "\n",
       "product               Apple iPhone 4s, Sprint Locked, 16GB, White  \\\n",
       "author                                                              \n",
       "NaN                                                          0.00   \n",
       "??????????????                                               0.00   \n",
       "????????????????                                             0.00   \n",
       "?????€??????????????                                         0.00   \n",
       "AZIRMIR                                                      0.00   \n",
       "\n",
       "product               Apple iPhone 5 16GB 4G LTE Black - Cricket  \\\n",
       "author                                                             \n",
       "NaN                                                         0.00   \n",
       "??????????????                                              0.00   \n",
       "????????????????                                            0.00   \n",
       "?????€??????????????                                        0.00   \n",
       "AZIRMIR                                                     0.00   \n",
       "\n",
       "product               Apple iPhone 5S, 64 GB, Zlatý  \\\n",
       "author                                                \n",
       "NaN                                            0.00   \n",
       "??????????????                                 0.00   \n",
       "????????????????                               0.00   \n",
       "?????€??????????????                           0.00   \n",
       "AZIRMIR                                        0.00   \n",
       "\n",
       "product               Apple iPhone 5c 16GB White SIM-Free Smartphone (discontinued by manufacturer)  \\\n",
       "author                                                                                                \n",
       "NaN                                                                0.00                               \n",
       "??????????????                                                     0.00                               \n",
       "????????????????                                                   0.00                               \n",
       "?????€??????????????                                               0.00                               \n",
       "AZIRMIR                                                            0.00                               \n",
       "\n",
       "product               ...  Sony Xperia miro  Sony-Ericsson S302  \\\n",
       "author                ...                                         \n",
       "NaN                   ...              8.00                0.00   \n",
       "??????????????        ...              0.00                0.00   \n",
       "????????????????      ...              0.00                0.00   \n",
       "?????€??????????????  ...              0.00                0.00   \n",
       "AZIRMIR               ...              0.00                0.00   \n",
       "\n",
       "product               Straight Talk iPhone 5 Prepaid Cell Phone, 16 GB, Black  \\\n",
       "author                                                                          \n",
       "NaN                                                                0.00         \n",
       "??????????????                                                     0.00         \n",
       "????????????????                                                   0.00         \n",
       "?????€??????????????                                               0.00         \n",
       "AZIRMIR                                                            0.00         \n",
       "\n",
       "product               T-Mobile Comet Prepaid Android Phone (T-Mobile)  \\\n",
       "author                                                                  \n",
       "NaN                                                              0.00   \n",
       "??????????????                                                   0.00   \n",
       "????????????????                                                 0.00   \n",
       "?????€??????????????                                             0.00   \n",
       "AZIRMIR                                                          0.00   \n",
       "\n",
       "product               T-Mobile Sparq Prepaid Phone (T-Mobile)  \\\n",
       "author                                                          \n",
       "NaN                                                      0.00   \n",
       "??????????????                                           0.00   \n",
       "????????????????                                         0.00   \n",
       "?????€??????????????                                     0.00   \n",
       "AZIRMIR                                                  0.00   \n",
       "\n",
       "product               ThL W200,Quad Core 5,0\" pollici Android 4.2 MTK6589T SmartPhone \"ThL W200\" - 1.5GHz, 8GB di ROM, 8.0MP fotocamera...  \\\n",
       "author                                                                                                                                       \n",
       "NaN                                                                0.00                                                                      \n",
       "??????????????                                                     0.00                                                                      \n",
       "????????????????                                                   0.00                                                                      \n",
       "?????€??????????????                                               0.00                                                                      \n",
       "AZIRMIR                                                            0.00                                                                      \n",
       "\n",
       "product               ViewSonic V350 Smartphone mit Dual Sim (8,9 cm (3,5 Zoll) Touchscreen, 5 Megapixel Kamera, Android 2.3)  \\\n",
       "author                                                                                                                          \n",
       "NaN                                                                0.00                                                         \n",
       "??????????????                                                     0.00                                                         \n",
       "????????????????                                                   0.00                                                         \n",
       "?????€??????????????                                               0.00                                                         \n",
       "AZIRMIR                                                            0.00                                                         \n",
       "\n",
       "product               Wiko Rainbow Smartphone (12,7 cm (5 Zoll) Display 4 GB interner Speicher, Android 4.2) pink  \\\n",
       "author                                                                                                              \n",
       "NaN                                                                0.00                                             \n",
       "??????????????                                                     0.00                                             \n",
       "????????????????                                                   0.00                                             \n",
       "?????€??????????????                                               0.00                                             \n",
       "AZIRMIR                                                            0.00                                             \n",
       "\n",
       "product               YU Yuphoria YU5010A (Black+Silver)  i-mate JAMA  \n",
       "author                                                                 \n",
       "NaN                                                 0.00         0.00  \n",
       "??????????????                                      0.00         0.00  \n",
       "????????????????                                    0.00         0.00  \n",
       "?????€??????????????                                0.00         0.00  \n",
       "AZIRMIR                                             0.00         0.00  \n",
       "\n",
       "[5 rows x 145 columns]"
      ]
     },
     "execution_count": 172,
     "metadata": {
      "tags": []
     },
     "output_type": "execute_result"
    }
   ],
   "source": [
    "# Item-based Collaborative Filtering\n",
    "from pandas_datareader import data\n",
    "print('Matrix with one row per \\'Product\\' and one column per \\'User\\' for Item-based collaborative filtering'); print('--'*40)\n",
    "ratings_item = ratings.pivot(index = 'author', columns = 'product', values = 'score').fillna(0)\n",
    "ratings_item.head()"
   ]
  },
  {
   "cell_type": "code",
   "execution_count": null,
   "metadata": {
    "colab": {
     "base_uri": "https://localhost:8080/"
    },
    "id": "a6RxdibRet2g",
    "outputId": "da9d0427-c363-4cf6-a7a7-57905bb3dbf6"
   },
   "outputs": [
    {
     "name": "stdout",
     "output_type": "stream",
     "text": [
      "Calculate the density of the ratings matrix\n",
      "--------------------------------------------------------------------------------\n",
      "Shape of ratings matrix:  (140, 145)\n",
      "given_num_of_ratings =  143\n",
      "possible_num_of_ratings =  20300\n",
      "density: 0.70%\n"
     ]
    }
   ],
   "source": [
    "# Calculate the density of the rating matrix\n",
    "print('Calculate the density of the ratings matrix'); print('--'*40)\n",
    "\n",
    "print('Shape of ratings matrix: ', ratings_item.shape)\n",
    "\n",
    "given_num_of_ratings = np.count_nonzero(ratings_item)\n",
    "print('given_num_of_ratings = ', given_num_of_ratings)\n",
    "\n",
    "possible_num_of_ratings = ratings_item.shape[0] * ratings_item.shape[1]\n",
    "print('possible_num_of_ratings = ', possible_num_of_ratings)\n",
    "\n",
    "density = (given_num_of_ratings/possible_num_of_ratings)\n",
    "density *= 100\n",
    "print ('density: {:4.2f}%'.format(density))"
   ]
  },
  {
   "cell_type": "code",
   "execution_count": null,
   "metadata": {
    "colab": {
     "base_uri": "https://localhost:8080/",
     "height": 694
    },
    "id": "B4K75GVwet2h",
    "outputId": "e8ad0a30-6d67-48fd-f1bd-27af8b33b64a"
   },
   "outputs": [
    {
     "data": {
      "text/html": [
       "<div>\n",
       "<style scoped>\n",
       "    .dataframe tbody tr th:only-of-type {\n",
       "        vertical-align: middle;\n",
       "    }\n",
       "\n",
       "    .dataframe tbody tr th {\n",
       "        vertical-align: top;\n",
       "    }\n",
       "\n",
       "    .dataframe thead th {\n",
       "        text-align: right;\n",
       "    }\n",
       "</style>\n",
       "<table border=\"1\" class=\"dataframe\">\n",
       "  <thead>\n",
       "    <tr style=\"text-align: right;\">\n",
       "      <th>product</th>\n",
       "      <th>2015 Newest CUBOT X9 5.0'' Octa Core Android 4.4 Kitkat OS Unlocked 3G Smartphone -- IPS HD Touchscreen HotKnot MTK6592 Dual SIM Dual Standby Mobile Phone 2G RAM 16G ROM WIFI OTG GPS Finger Gesture Air Gesture Cellphone 3G Phablet (Golden)</th>\n",
       "      <th>Alcatel One Touch Pop C7 7041D Smartphone (12,7 cm (5 Zoll) Touchscreen, 1,3GHz, Quad-Core, 4GB interner Speicher, 5 Megapixel Kamera, Android 4.2) full white</th>\n",
       "      <th>Alcatel One Touch Scribe HD Smartphone (12,7 cm (5 Zoll) Touchscreen, 1,2GHz, Quad-Core, 1GB RAM, 4GB interner Speicher, 8 Megapixel Kamera, Android 4.2) weiß</th>\n",
       "      <th>Alcatel Onetouch Pixi 3 - Smartphone libre Android (pantalla 4\", cámara 3 Mp, 4 GB, Dual-Core 1 GHz, 512 MB RAM), blanco</th>\n",
       "      <th>Apple iPhone 3G</th>\n",
       "      <th>Apple iPhone 4 32GB schwarz ohne Simlock</th>\n",
       "      <th>Apple iPhone 4s, Sprint Locked, 16GB, White</th>\n",
       "      <th>Apple iPhone 5 16GB 4G LTE Black - Cricket</th>\n",
       "      <th>Apple iPhone 5S, 64 GB, Zlatý</th>\n",
       "      <th>Apple iPhone 5c 16GB White SIM-Free Smartphone (discontinued by manufacturer)</th>\n",
       "      <th>...</th>\n",
       "      <th>Sony Xperia miro</th>\n",
       "      <th>Sony-Ericsson S302</th>\n",
       "      <th>Straight Talk iPhone 5 Prepaid Cell Phone, 16 GB, Black</th>\n",
       "      <th>T-Mobile Comet Prepaid Android Phone (T-Mobile)</th>\n",
       "      <th>T-Mobile Sparq Prepaid Phone (T-Mobile)</th>\n",
       "      <th>ThL W200,Quad Core 5,0\" pollici Android 4.2 MTK6589T SmartPhone \"ThL W200\" - 1.5GHz, 8GB di ROM, 8.0MP fotocamera...</th>\n",
       "      <th>ViewSonic V350 Smartphone mit Dual Sim (8,9 cm (3,5 Zoll) Touchscreen, 5 Megapixel Kamera, Android 2.3)</th>\n",
       "      <th>Wiko Rainbow Smartphone (12,7 cm (5 Zoll) Display 4 GB interner Speicher, Android 4.2) pink</th>\n",
       "      <th>YU Yuphoria YU5010A (Black+Silver)</th>\n",
       "      <th>i-mate JAMA</th>\n",
       "    </tr>\n",
       "    <tr>\n",
       "      <th>author</th>\n",
       "      <th></th>\n",
       "      <th></th>\n",
       "      <th></th>\n",
       "      <th></th>\n",
       "      <th></th>\n",
       "      <th></th>\n",
       "      <th></th>\n",
       "      <th></th>\n",
       "      <th></th>\n",
       "      <th></th>\n",
       "      <th></th>\n",
       "      <th></th>\n",
       "      <th></th>\n",
       "      <th></th>\n",
       "      <th></th>\n",
       "      <th></th>\n",
       "      <th></th>\n",
       "      <th></th>\n",
       "      <th></th>\n",
       "      <th></th>\n",
       "      <th></th>\n",
       "    </tr>\n",
       "  </thead>\n",
       "  <tbody>\n",
       "    <tr>\n",
       "      <th>NaN</th>\n",
       "      <td>-0.00</td>\n",
       "      <td>-0.00</td>\n",
       "      <td>0.00</td>\n",
       "      <td>-0.00</td>\n",
       "      <td>-0.00</td>\n",
       "      <td>-0.00</td>\n",
       "      <td>-0.00</td>\n",
       "      <td>0.00</td>\n",
       "      <td>-0.00</td>\n",
       "      <td>-0.00</td>\n",
       "      <td>...</td>\n",
       "      <td>0.00</td>\n",
       "      <td>0.00</td>\n",
       "      <td>0.00</td>\n",
       "      <td>0.00</td>\n",
       "      <td>-0.00</td>\n",
       "      <td>0.00</td>\n",
       "      <td>-0.00</td>\n",
       "      <td>0.00</td>\n",
       "      <td>-0.00</td>\n",
       "      <td>-0.00</td>\n",
       "    </tr>\n",
       "    <tr>\n",
       "      <th>??????????????</th>\n",
       "      <td>-0.00</td>\n",
       "      <td>-0.00</td>\n",
       "      <td>0.00</td>\n",
       "      <td>-0.00</td>\n",
       "      <td>-0.00</td>\n",
       "      <td>-0.00</td>\n",
       "      <td>-0.00</td>\n",
       "      <td>0.00</td>\n",
       "      <td>-0.00</td>\n",
       "      <td>-0.00</td>\n",
       "      <td>...</td>\n",
       "      <td>0.00</td>\n",
       "      <td>0.00</td>\n",
       "      <td>0.00</td>\n",
       "      <td>0.00</td>\n",
       "      <td>-0.00</td>\n",
       "      <td>0.00</td>\n",
       "      <td>-0.00</td>\n",
       "      <td>0.00</td>\n",
       "      <td>-0.00</td>\n",
       "      <td>-0.00</td>\n",
       "    </tr>\n",
       "    <tr>\n",
       "      <th>????????????????</th>\n",
       "      <td>-0.00</td>\n",
       "      <td>-0.00</td>\n",
       "      <td>0.00</td>\n",
       "      <td>-0.00</td>\n",
       "      <td>-0.00</td>\n",
       "      <td>-0.00</td>\n",
       "      <td>-0.00</td>\n",
       "      <td>0.00</td>\n",
       "      <td>-0.00</td>\n",
       "      <td>-0.00</td>\n",
       "      <td>...</td>\n",
       "      <td>0.00</td>\n",
       "      <td>0.00</td>\n",
       "      <td>0.00</td>\n",
       "      <td>0.00</td>\n",
       "      <td>-0.00</td>\n",
       "      <td>0.00</td>\n",
       "      <td>-0.00</td>\n",
       "      <td>0.00</td>\n",
       "      <td>-0.00</td>\n",
       "      <td>-0.00</td>\n",
       "    </tr>\n",
       "    <tr>\n",
       "      <th>?????€??????????????</th>\n",
       "      <td>0.00</td>\n",
       "      <td>0.00</td>\n",
       "      <td>-0.00</td>\n",
       "      <td>0.00</td>\n",
       "      <td>0.00</td>\n",
       "      <td>0.00</td>\n",
       "      <td>0.00</td>\n",
       "      <td>-0.00</td>\n",
       "      <td>0.00</td>\n",
       "      <td>0.00</td>\n",
       "      <td>...</td>\n",
       "      <td>-0.00</td>\n",
       "      <td>-0.00</td>\n",
       "      <td>-0.00</td>\n",
       "      <td>-0.00</td>\n",
       "      <td>0.00</td>\n",
       "      <td>-0.00</td>\n",
       "      <td>0.00</td>\n",
       "      <td>-0.00</td>\n",
       "      <td>0.00</td>\n",
       "      <td>0.00</td>\n",
       "    </tr>\n",
       "    <tr>\n",
       "      <th>AZIRMIR</th>\n",
       "      <td>-0.00</td>\n",
       "      <td>-0.00</td>\n",
       "      <td>0.00</td>\n",
       "      <td>-0.00</td>\n",
       "      <td>-0.00</td>\n",
       "      <td>-0.00</td>\n",
       "      <td>-0.00</td>\n",
       "      <td>0.00</td>\n",
       "      <td>-0.00</td>\n",
       "      <td>-0.00</td>\n",
       "      <td>...</td>\n",
       "      <td>0.00</td>\n",
       "      <td>0.00</td>\n",
       "      <td>0.00</td>\n",
       "      <td>0.00</td>\n",
       "      <td>-0.00</td>\n",
       "      <td>0.00</td>\n",
       "      <td>-0.00</td>\n",
       "      <td>0.00</td>\n",
       "      <td>-0.00</td>\n",
       "      <td>-0.00</td>\n",
       "    </tr>\n",
       "  </tbody>\n",
       "</table>\n",
       "<p>5 rows × 145 columns</p>\n",
       "</div>"
      ],
      "text/plain": [
       "product               2015 Newest CUBOT X9 5.0'' Octa Core Android 4.4 Kitkat OS Unlocked 3G Smartphone -- IPS HD Touchscreen HotKnot MTK6592 Dual SIM Dual Standby Mobile Phone 2G RAM 16G ROM WIFI OTG GPS Finger Gesture Air Gesture Cellphone 3G Phablet (Golden)  \\\n",
       "author                                                                                                                                                                                                                                                                  \n",
       "NaN                                                               -0.00                                                                                                                                                                                                 \n",
       "??????????????                                                    -0.00                                                                                                                                                                                                 \n",
       "????????????????                                                  -0.00                                                                                                                                                                                                 \n",
       "?????€??????????????                                               0.00                                                                                                                                                                                                 \n",
       "AZIRMIR                                                           -0.00                                                                                                                                                                                                 \n",
       "\n",
       "product               Alcatel One Touch Pop C7 7041D Smartphone (12,7 cm (5 Zoll) Touchscreen, 1,3GHz, Quad-Core, 4GB interner Speicher, 5 Megapixel Kamera, Android 4.2) full white  \\\n",
       "author                                                                                                                                                                                 \n",
       "NaN                                                               -0.00                                                                                                                \n",
       "??????????????                                                    -0.00                                                                                                                \n",
       "????????????????                                                  -0.00                                                                                                                \n",
       "?????€??????????????                                               0.00                                                                                                                \n",
       "AZIRMIR                                                           -0.00                                                                                                                \n",
       "\n",
       "product               Alcatel One Touch Scribe HD Smartphone (12,7 cm (5 Zoll) Touchscreen, 1,2GHz, Quad-Core, 1GB RAM, 4GB interner Speicher, 8 Megapixel Kamera, Android 4.2) weiß  \\\n",
       "author                                                                                                                                                                                 \n",
       "NaN                                                                0.00                                                                                                                \n",
       "??????????????                                                     0.00                                                                                                                \n",
       "????????????????                                                   0.00                                                                                                                \n",
       "?????€??????????????                                              -0.00                                                                                                                \n",
       "AZIRMIR                                                            0.00                                                                                                                \n",
       "\n",
       "product               Alcatel Onetouch Pixi 3 - Smartphone libre Android (pantalla 4\", cámara 3 Mp, 4 GB, Dual-Core 1 GHz, 512 MB RAM), blanco  \\\n",
       "author                                                                                                                                           \n",
       "NaN                                                               -0.00                                                                          \n",
       "??????????????                                                    -0.00                                                                          \n",
       "????????????????                                                  -0.00                                                                          \n",
       "?????€??????????????                                               0.00                                                                          \n",
       "AZIRMIR                                                           -0.00                                                                          \n",
       "\n",
       "product               Apple iPhone 3G  \\\n",
       "author                                  \n",
       "NaN                             -0.00   \n",
       "??????????????                  -0.00   \n",
       "????????????????                -0.00   \n",
       "?????€??????????????             0.00   \n",
       "AZIRMIR                         -0.00   \n",
       "\n",
       "product               Apple iPhone 4 32GB schwarz ohne Simlock  \\\n",
       "author                                                           \n",
       "NaN                                                      -0.00   \n",
       "??????????????                                           -0.00   \n",
       "????????????????                                         -0.00   \n",
       "?????€??????????????                                      0.00   \n",
       "AZIRMIR                                                  -0.00   \n",
       "\n",
       "product               Apple iPhone 4s, Sprint Locked, 16GB, White  \\\n",
       "author                                                              \n",
       "NaN                                                         -0.00   \n",
       "??????????????                                              -0.00   \n",
       "????????????????                                            -0.00   \n",
       "?????€??????????????                                         0.00   \n",
       "AZIRMIR                                                     -0.00   \n",
       "\n",
       "product               Apple iPhone 5 16GB 4G LTE Black - Cricket  \\\n",
       "author                                                             \n",
       "NaN                                                         0.00   \n",
       "??????????????                                              0.00   \n",
       "????????????????                                            0.00   \n",
       "?????€??????????????                                       -0.00   \n",
       "AZIRMIR                                                     0.00   \n",
       "\n",
       "product               Apple iPhone 5S, 64 GB, Zlatý  \\\n",
       "author                                                \n",
       "NaN                                           -0.00   \n",
       "??????????????                                -0.00   \n",
       "????????????????                              -0.00   \n",
       "?????€??????????????                           0.00   \n",
       "AZIRMIR                                       -0.00   \n",
       "\n",
       "product               Apple iPhone 5c 16GB White SIM-Free Smartphone (discontinued by manufacturer)  \\\n",
       "author                                                                                                \n",
       "NaN                                                               -0.00                               \n",
       "??????????????                                                    -0.00                               \n",
       "????????????????                                                  -0.00                               \n",
       "?????€??????????????                                               0.00                               \n",
       "AZIRMIR                                                           -0.00                               \n",
       "\n",
       "product               ...  Sony Xperia miro  Sony-Ericsson S302  \\\n",
       "author                ...                                         \n",
       "NaN                   ...              0.00                0.00   \n",
       "??????????????        ...              0.00                0.00   \n",
       "????????????????      ...              0.00                0.00   \n",
       "?????€??????????????  ...             -0.00               -0.00   \n",
       "AZIRMIR               ...              0.00                0.00   \n",
       "\n",
       "product               Straight Talk iPhone 5 Prepaid Cell Phone, 16 GB, Black  \\\n",
       "author                                                                          \n",
       "NaN                                                                0.00         \n",
       "??????????????                                                     0.00         \n",
       "????????????????                                                   0.00         \n",
       "?????€??????????????                                              -0.00         \n",
       "AZIRMIR                                                            0.00         \n",
       "\n",
       "product               T-Mobile Comet Prepaid Android Phone (T-Mobile)  \\\n",
       "author                                                                  \n",
       "NaN                                                              0.00   \n",
       "??????????????                                                   0.00   \n",
       "????????????????                                                 0.00   \n",
       "?????€??????????????                                            -0.00   \n",
       "AZIRMIR                                                          0.00   \n",
       "\n",
       "product               T-Mobile Sparq Prepaid Phone (T-Mobile)  \\\n",
       "author                                                          \n",
       "NaN                                                     -0.00   \n",
       "??????????????                                          -0.00   \n",
       "????????????????                                        -0.00   \n",
       "?????€??????????????                                     0.00   \n",
       "AZIRMIR                                                 -0.00   \n",
       "\n",
       "product               ThL W200,Quad Core 5,0\" pollici Android 4.2 MTK6589T SmartPhone \"ThL W200\" - 1.5GHz, 8GB di ROM, 8.0MP fotocamera...  \\\n",
       "author                                                                                                                                       \n",
       "NaN                                                                0.00                                                                      \n",
       "??????????????                                                     0.00                                                                      \n",
       "????????????????                                                   0.00                                                                      \n",
       "?????€??????????????                                              -0.00                                                                      \n",
       "AZIRMIR                                                            0.00                                                                      \n",
       "\n",
       "product               ViewSonic V350 Smartphone mit Dual Sim (8,9 cm (3,5 Zoll) Touchscreen, 5 Megapixel Kamera, Android 2.3)  \\\n",
       "author                                                                                                                          \n",
       "NaN                                                               -0.00                                                         \n",
       "??????????????                                                    -0.00                                                         \n",
       "????????????????                                                  -0.00                                                         \n",
       "?????€??????????????                                               0.00                                                         \n",
       "AZIRMIR                                                           -0.00                                                         \n",
       "\n",
       "product               Wiko Rainbow Smartphone (12,7 cm (5 Zoll) Display 4 GB interner Speicher, Android 4.2) pink  \\\n",
       "author                                                                                                              \n",
       "NaN                                                                0.00                                             \n",
       "??????????????                                                     0.00                                             \n",
       "????????????????                                                   0.00                                             \n",
       "?????€??????????????                                              -0.00                                             \n",
       "AZIRMIR                                                            0.00                                             \n",
       "\n",
       "product               YU Yuphoria YU5010A (Black+Silver)  i-mate JAMA  \n",
       "author                                                                 \n",
       "NaN                                                -0.00        -0.00  \n",
       "??????????????                                     -0.00        -0.00  \n",
       "????????????????                                   -0.00        -0.00  \n",
       "?????€??????????????                                0.00         0.00  \n",
       "AZIRMIR                                            -0.00        -0.00  \n",
       "\n",
       "[5 rows x 145 columns]"
      ]
     },
     "execution_count": 174,
     "metadata": {
      "tags": []
     },
     "output_type": "execute_result"
    }
   ],
   "source": [
    "# Singular Value Decomposition\n",
    "U, sigma, Vt = svds(ratings_item, k = 1)\n",
    "sigma = np.diag(sigma)\n",
    "\n",
    "all_user_predicted_ratings = np.dot(np.dot(U, sigma), Vt)\n",
    "preds_df = pd.DataFrame(all_user_predicted_ratings, columns = ratings_item.columns, index = ratings_item.index) #predicted ratings\n",
    "preds_df.head()"
   ]
  },
  {
   "cell_type": "code",
   "execution_count": null,
   "metadata": {
    "colab": {
     "base_uri": "https://localhost:8080/"
    },
    "id": "3od3JytMet2h",
    "outputId": "415e69af-7dc1-4ca7-be85-ac65ac1f1c6c"
   },
   "outputs": [
    {
     "name": "stdout",
     "output_type": "stream",
     "text": [
      "Creating a function to recommend products with highest predicted scores\n",
      "--------------------------------------------------------------------------------\n"
     ]
    }
   ],
   "source": [
    "# Recommend products with highest predicted scores\n",
    "print('Creating a function to recommend products with highest predicted scores'); print('--'*40)\n",
    "def recommend_items(user_id, scores_item, preds_df, num_recommendations = 5):\n",
    "    try:\n",
    "        print('User has already rated products (from data in training set): {}'.format(train_data.loc[(train_data['author'] == user_id), 'product'].nunique()))\n",
    "        print('Top 5 products from what\\'s already being rated: {}'.format(list(train_data[(train_data['author'] == user_id)].sort_values(by = 'score', ascending = False).head(5)['product'])))\n",
    "    except:\n",
    "      print('There\\'s no data for the selected user in training set')\n",
    "    sorted_user_scores = scores_item.loc[user_id].sort_values(ascending = False)\n",
    "    \n",
    "    sorted_user_predictions = preds_df.loc[user_id].sort_values(ascending = False)\n",
    "    temp = pd.concat([sorted_user_scores, sorted_user_predictions], axis = 1)\n",
    "    temp.index.name = 'Recommended Items'\n",
    "    temp.columns = ['user_scores', 'user_predictions']\n",
    "    \n",
    "    temp = temp.loc[temp.user_scores == 0]\n",
    "    temp = temp.sort_values('user_predictions', ascending = False)\n",
    "    print('\\nTop 5 recommendations for the user based on item-based collaborative filtering method')\n",
    "    display(temp.head(num_recommendations))\n",
    "    return temp.head(num_recommendations).index.tolist()"
   ]
  },
  {
   "cell_type": "code",
   "execution_count": null,
   "metadata": {
    "colab": {
     "base_uri": "https://localhost:8080/"
    },
    "id": "rUjw4Qp-et2i",
    "outputId": "7d544404-8cf7-4b64-d600-eb1635b030ad"
   },
   "outputs": [
    {
     "name": "stdout",
     "output_type": "stream",
     "text": [
      "Get top - K ( K = 5) recommendations.\n",
      "Since our goal is to recommend new products to each user based on his/her habits, we will recommend 5 new products.\n",
      "--------------------------------------------------------------------------------\n",
      "\n",
      "Make recommendation for the user id selected from the testset = \"AZIRMIR\"\n"
     ]
    }
   ],
   "source": [
    "print('Get top - K ( K = 5) recommendations.')\n",
    "print('Since our goal is to recommend new products to each user based on his/her habits, we will recommend 5 new products.'); print('--'*40)\n",
    "result = {}\n",
    "\n",
    "author = \"AZIRMIR\"\n",
    "print(f'\\nMake recommendation for the user id selected from the testset = \"{author}\"')"
   ]
  },
  {
   "cell_type": "code",
   "execution_count": null,
   "metadata": {
    "colab": {
     "base_uri": "https://localhost:8080/"
    },
    "id": "FcxmE5OCet2j",
    "outputId": "b7327e59-e5ca-4e94-a7a5-67f0c86e80d7"
   },
   "outputs": [
    {
     "name": "stdout",
     "output_type": "stream",
     "text": [
      "Top 5 products from what's already being rated: ['Lava Iris X5 (Black)', 'Lava Iris X5 (Black)']\n"
     ]
    }
   ],
   "source": [
    "print('Top 5 products from what\\'s already being rated: {}'.format(list(train_data[(train_data['author'] == user_id)].sort_values(by = 'score', ascending = False).head(5)['product'])))"
   ]
  },
  {
   "cell_type": "code",
   "execution_count": null,
   "metadata": {
    "colab": {
     "base_uri": "https://localhost:8080/",
     "height": 258
    },
    "id": "A0NcLrQget2k",
    "outputId": "d9d00cb5-730c-4609-c85a-eb667d2e2198"
   },
   "outputs": [
    {
     "name": "stdout",
     "output_type": "stream",
     "text": [
      "\n",
      "Top 5 recommendations for the user based on item-based collaborative filtering method\n"
     ]
    },
    {
     "data": {
      "text/html": [
       "<div>\n",
       "<style scoped>\n",
       "    .dataframe tbody tr th:only-of-type {\n",
       "        vertical-align: middle;\n",
       "    }\n",
       "\n",
       "    .dataframe tbody tr th {\n",
       "        vertical-align: top;\n",
       "    }\n",
       "\n",
       "    .dataframe thead th {\n",
       "        text-align: right;\n",
       "    }\n",
       "</style>\n",
       "<table border=\"1\" class=\"dataframe\">\n",
       "  <thead>\n",
       "    <tr style=\"text-align: right;\">\n",
       "      <th></th>\n",
       "      <th>user_scores</th>\n",
       "      <th>user_predictions</th>\n",
       "    </tr>\n",
       "    <tr>\n",
       "      <th>Recommended Items</th>\n",
       "      <th></th>\n",
       "      <th></th>\n",
       "    </tr>\n",
       "  </thead>\n",
       "  <tbody>\n",
       "    <tr>\n",
       "      <th>HTC Wildfire</th>\n",
       "      <td>0.00</td>\n",
       "      <td>0.00</td>\n",
       "    </tr>\n",
       "    <tr>\n",
       "      <th>LG KP500</th>\n",
       "      <td>0.00</td>\n",
       "      <td>0.00</td>\n",
       "    </tr>\n",
       "    <tr>\n",
       "      <th>Nokia C5-03</th>\n",
       "      <td>0.00</td>\n",
       "      <td>0.00</td>\n",
       "    </tr>\n",
       "    <tr>\n",
       "      <th>Celular Motorola EX115</th>\n",
       "      <td>0.00</td>\n",
       "      <td>0.00</td>\n",
       "    </tr>\n",
       "    <tr>\n",
       "      <th>Sony Xperia miro</th>\n",
       "      <td>0.00</td>\n",
       "      <td>0.00</td>\n",
       "    </tr>\n",
       "  </tbody>\n",
       "</table>\n",
       "</div>"
      ],
      "text/plain": [
       "                        user_scores  user_predictions\n",
       "Recommended Items                                    \n",
       "HTC Wildfire                   0.00              0.00\n",
       "LG KP500                       0.00              0.00\n",
       "Nokia C5-03                    0.00              0.00\n",
       "Celular Motorola EX115         0.00              0.00\n",
       "Sony Xperia miro               0.00              0.00"
      ]
     },
     "metadata": {
      "tags": []
     },
     "output_type": "display_data"
    }
   ],
   "source": [
    "user_id= \"AZIRMIR\"\n",
    "sorted_user_scores = ratings_item.loc[user_id].sort_values(ascending = False)\n",
    "sorted_user_predictions = preds_df.loc[user_id].sort_values(ascending = False)\n",
    "temp = pd.concat([sorted_user_scores, sorted_user_predictions], axis = 1)\n",
    "temp.index.name = 'Recommended Items'\n",
    "temp.columns = ['user_scores', 'user_predictions']\n",
    "\n",
    "#temp = temp.loc[temp.user_scores == 0]\n",
    "temp = temp.sort_values('user_predictions', ascending = False)\n",
    "print('\\nTop 5 recommendations for the user based on item-based collaborative filtering method')\n",
    "num_recommendations=5\n",
    "display(temp.head(num_recommendations))\n"
   ]
  },
  {
   "cell_type": "code",
   "execution_count": null,
   "metadata": {
    "id": "9eoVgHcJPbBu"
   },
   "outputs": [],
   "source": [
    "compare_dict['SVD Item-based Collaborative Filtering'] = result"
   ]
  },
  {
   "cell_type": "markdown",
   "metadata": {
    "id": "5XotW8ZmOZxJ"
   },
   "source": [
    "# Evaluate the collaborative model. Print RMSE value"
   ]
  },
  {
   "cell_type": "code",
   "execution_count": null,
   "metadata": {
    "colab": {
     "base_uri": "https://localhost:8080/"
    },
    "id": "t5ct77N3QcWu",
    "outputId": "ac70cdc8-b127-483e-b41c-34f8cb0df4b0"
   },
   "outputs": [
    {
     "name": "stdout",
     "output_type": "stream",
     "text": [
      "Evaluating SVD for Item-based Collaborative Filtering\n",
      "------------------------------------------------------------------------------------------------------------------------\n",
      "RMSE OF ITEM BASED COLLABORATIVE FILTERING USING MATRIX FACTORIZATION METHOD (SVD): 0.0587\n"
     ]
    }
   ],
   "source": [
    "\n",
    "print('Evaluating SVD for Item-based Collaborative Filtering'); print('--'*60)\n",
    "rmse_df = pd.concat([ratings_item.mean(), preds_df.mean()], axis = 1)\n",
    "rmse_df.columns = ['Avg_actual_ratings', 'Avg_predicted_ratings']\n",
    "RMSE = round((((rmse_df['Avg_actual_ratings'] - rmse_df['Avg_predicted_ratings']) ** 2).mean() ** 0.5), 4)\n",
    "print('RMSE OF ITEM BASED COLLABORATIVE FILTERING USING MATRIX FACTORIZATION METHOD (SVD): {}'.format(RMSE))"
   ]
  },
  {
   "cell_type": "markdown",
   "metadata": {
    "id": "1JPXzWFK85KN"
   },
   "source": [
    "# Product Similarity based on Sklearn Nearest Neighbors"
   ]
  },
  {
   "cell_type": "code",
   "execution_count": null,
   "metadata": {
    "colab": {
     "base_uri": "https://localhost:8080/"
    },
    "id": "6Quf7u8I9A8c",
    "outputId": "e91643dc-c994-410e-8614-6a527f586012"
   },
   "outputs": [
    {
     "name": "stdout",
     "output_type": "stream",
     "text": [
      "Product similarity based on Sklearn Nearest Neighbor\n",
      "--------------------------------------------------------------------------------\n",
      "Recommendations for Apple iPhone 4 32GB schwarz ohne Simlock:\n",
      "\n",
      "1: Samsung Galaxy Express I8730, with distance of 1.0:\n",
      "2: Samsung Galaxy Note II, with distance of 1.0:\n",
      "3: Samsung Galaxy Note 3/S5 USB 3.0 5-Feet Data Cable, Non-Retail Packaging, with distance of 1.0:\n",
      "4: Samsung Galaxy S II i777 16GB GSM Android Smartphone Unlocked, with distance of 1.0:\n",
      "5: Samsung Galaxy Ace II Smartphone, Nero [Italia], with distance of 1.0:\n"
     ]
    }
   ],
   "source": [
    "print('Product similarity based on Sklearn Nearest Neighbor'); print('--'*40)\n",
    "k = 5\n",
    "df_knn = ratings.pivot(index = 'product', columns = 'author', values = 'score').fillna(0)\n",
    "df_knn_matrix = csr_matrix(df_knn.values)\n",
    "\n",
    "model_knn = NearestNeighbors(metric = 'cosine', algorithm = 'brute', n_neighbors = k)\n",
    "model_knn.fit(df_knn_matrix)\n",
    "\n",
    "query_item = np.random.choice(df_knn.shape[0])\n",
    "query_user = np.random.choice(df_knn.shape[1])\n",
    "distances, indices = model_knn.kneighbors(df_knn.iloc[query_item, :].values.reshape(1, -1), n_neighbors = k+1)\n",
    "\n",
    "for i in range(0, len(distances.flatten())):\n",
    "  if i == 0:\n",
    "    print('Recommendations for {0}:\\n'.format(df_knn.index[query_item]))\n",
    "  else:\n",
    "    print('{0}: {1}, with distance of {2}:'.format(i, df_knn.index[indices.flatten()[i]], distances.flatten()[i]))"
   ]
  },
  {
   "cell_type": "markdown",
   "metadata": {
    "id": "nM9Ufidd9bw0"
   },
   "source": [
    "# Model based Collaborative Filtering: k-NN"
   ]
  },
  {
   "cell_type": "code",
   "execution_count": null,
   "metadata": {
    "colab": {
     "base_uri": "https://localhost:8080/"
    },
    "id": "oT12xXJ59hSr",
    "outputId": "4383b3f7-0c6a-40c6-83ee-3d2af73a7b9b"
   },
   "outputs": [
    {
     "data": {
      "text/plain": [
       "1"
      ]
     },
     "execution_count": 185,
     "metadata": {
      "tags": []
     },
     "output_type": "execute_result"
    }
   ],
   "source": [
    "ratings['author'].value_counts().min()"
   ]
  },
  {
   "cell_type": "code",
   "execution_count": null,
   "metadata": {
    "colab": {
     "base_uri": "https://localhost:8080/",
     "height": 50
    },
    "id": "8nNsrb1T93qO",
    "outputId": "9663a001-f714-4276-eb2b-7852ea3c3b54"
   },
   "outputs": [
    {
     "data": {
      "text/plain": [
       "(105, 3)"
      ]
     },
     "metadata": {
      "tags": []
     },
     "output_type": "display_data"
    },
    {
     "data": {
      "text/plain": [
       "(45, 3)"
      ]
     },
     "metadata": {
      "tags": []
     },
     "output_type": "display_data"
    }
   ],
   "source": [
    "train_data, test_data = train_test_split(ratings, test_size = 0.30, random_state = random_state)\n",
    "display(train_data.shape, test_data.shape)"
   ]
  },
  {
   "cell_type": "code",
   "execution_count": null,
   "metadata": {
    "colab": {
     "base_uri": "https://localhost:8080/"
    },
    "id": "Yna-sfnH97lO",
    "outputId": "1737685a-d740-4cf4-afc0-77153cb56cbc"
   },
   "outputs": [
    {
     "name": "stdout",
     "output_type": "stream",
     "text": [
      "Getting the trainset and testset ready for recommender to be used\n",
      "--------------------------------------------------------------------------------\n"
     ]
    }
   ],
   "source": [
    "print('Getting the trainset and testset ready for recommender to be used'); print('--'*40)\n",
    "reader = Reader(rating_scale = (0, 5))\n",
    "data = Dataset.load_from_df(ratings[['author', 'product', 'score']], reader)\n",
    "trainset = Dataset.load_from_df(train_data[['author', 'product', 'score']], reader); \n",
    "testset = Dataset.load_from_df(test_data[['author', 'product', 'score']], reader);"
   ]
  },
  {
   "cell_type": "code",
   "execution_count": null,
   "metadata": {
    "colab": {
     "base_uri": "https://localhost:8080/"
    },
    "id": "L9YMMEuC-EMF",
    "outputId": "c936820f-cbef-464f-959c-8255bcfd0fd7"
   },
   "outputs": [
    {
     "name": "stdout",
     "output_type": "stream",
     "text": [
      "ITEM BASED COLLABORATIVE FILTERING USING k-NN INSPIRED ALGOS\n",
      "Grid Search across parameter grid to find best parameters using KNNBasic algorithm\n",
      "--------------------------------------------------------------------------------\n",
      "nan\n",
      "{'k': 3, 'sim_options': {'name': 'pearson_baseline', 'user_based': False}, 'verbose': False}\n",
      "CPU times: user 19.4 ms, sys: 0 ns, total: 19.4 ms\n",
      "Wall time: 24.2 ms\n"
     ]
    }
   ],
   "source": [
    "%%time\n",
    "print('ITEM BASED COLLABORATIVE FILTERING USING k-NN INSPIRED ALGOS')\n",
    "print('Grid Search across parameter grid to find best parameters using KNNBasic algorithm'); print('--'*40)\n",
    "param_grid_KNNBasic = {'k': [3, 5, 10], 'sim_options': {'name': ['pearson_baseline', 'cosine'], 'user_based': [False]}, 'verbose': [False]}\n",
    "\n",
    "gs_KNNBasic = GridSearchCV(KNNBasic, param_grid_KNNBasic, measures = ['rmse', 'mae'], cv = 3)\n",
    "gs_KNNBasic.fit(trainset)\n",
    "print(gs_KNNBasic.best_score['rmse'])\n",
    "print(gs_KNNBasic.best_params['rmse'])"
   ]
  },
  {
   "cell_type": "code",
   "execution_count": null,
   "metadata": {
    "colab": {
     "base_uri": "https://localhost:8080/"
    },
    "id": "bqXpnoXr-G99",
    "outputId": "aad39e2e-12d0-4667-bd91-0cf2e8aac6aa"
   },
   "outputs": [
    {
     "name": "stdout",
     "output_type": "stream",
     "text": [
      "ITEM BASED COLLABORATIVE FILTERING USING k-NN INSPIRED ALGOS\n",
      "Grid Search across parameter grid to find best parameters using KNNWithMeans algorithm\n",
      "--------------------------------------------------------------------------------\n",
      "nan\n",
      "{'k': 3, 'sim_options': {'name': 'pearson_baseline', 'user_based': False}, 'verbose': False}\n",
      "CPU times: user 26.7 ms, sys: 0 ns, total: 26.7 ms\n",
      "Wall time: 27.6 ms\n"
     ]
    }
   ],
   "source": [
    "%%time\n",
    "print('ITEM BASED COLLABORATIVE FILTERING USING k-NN INSPIRED ALGOS')\n",
    "print('Grid Search across parameter grid to find best parameters using KNNWithMeans algorithm'); print('--'*40)\n",
    "param_grid_KNNWithMeans = {'k': [3, 5, 10], 'sim_options': {'name': ['pearson_baseline', 'cosine'], 'user_based': [False]}, 'verbose': [False]}\n",
    "\n",
    "gs_KNNWithMeans = GridSearchCV(KNNWithMeans, param_grid_KNNWithMeans, measures = ['rmse', 'mae'], cv = 3)\n",
    "gs_KNNWithMeans.fit(trainset)\n",
    "print(gs_KNNWithMeans.best_score['rmse'])\n",
    "print(gs_KNNWithMeans.best_params['rmse'])"
   ]
  },
  {
   "cell_type": "code",
   "execution_count": null,
   "metadata": {
    "colab": {
     "base_uri": "https://localhost:8080/"
    },
    "id": "LQbQh_3y-KCt",
    "outputId": "63b64016-48eb-475f-98ac-5b440810b861"
   },
   "outputs": [
    {
     "name": "stdout",
     "output_type": "stream",
     "text": [
      "ITEM BASED COLLABORATIVE FILTERING USING k-NN INSPIRED ALGOS\n",
      "Grid Search across parameter grid to find best parameters using KNNWithZScore algorithm\n",
      "--------------------------------------------------------------------------------\n",
      "nan\n",
      "{'k': 3, 'sim_options': {'name': 'pearson_baseline', 'user_based': False}, 'verbose': False}\n",
      "CPU times: user 52.4 ms, sys: 0 ns, total: 52.4 ms\n",
      "Wall time: 52.4 ms\n"
     ]
    }
   ],
   "source": [
    "%%time\n",
    "print('ITEM BASED COLLABORATIVE FILTERING USING k-NN INSPIRED ALGOS')\n",
    "print('Grid Search across parameter grid to find best parameters using KNNWithZScore algorithm'); print('--'*40)\n",
    "param_grid_KNNWithZScore = {'k': [3, 5, 10], 'sim_options': {'name': ['pearson_baseline', 'cosine'], 'user_based': [False]}, 'verbose': [False]}\n",
    "\n",
    "gs_KNNWithZScore = GridSearchCV(KNNWithZScore, param_grid_KNNWithZScore, measures = ['rmse', 'mae'], cv = 3)\n",
    "gs_KNNWithZScore.fit(trainset)\n",
    "print(gs_KNNWithZScore.best_score['rmse'])\n",
    "print(gs_KNNWithZScore.best_params['rmse'])"
   ]
  },
  {
   "cell_type": "code",
   "execution_count": null,
   "metadata": {
    "colab": {
     "base_uri": "https://localhost:8080/"
    },
    "id": "9ux1m1Ut-ORi",
    "outputId": "47117d91-dcfb-4b75-f193-062c99764c62"
   },
   "outputs": [
    {
     "name": "stdout",
     "output_type": "stream",
     "text": [
      "ITEM BASED COLLABORATIVE FILTERING USING k-NN INSPIRED ALGOS\n",
      "Grid Search across parameter grid to find best parameters using KNNBaseline algorithm\n",
      "--------------------------------------------------------------------------------\n",
      "nan\n",
      "{'bsl_options': {'method': 'als', 'reg': 1}, 'k': 2, 'sim_options': {'name': 'pearson_baseline', 'user_based': False}, 'verbose': False}\n",
      "CPU times: user 57.2 ms, sys: 1.86 ms, total: 59 ms\n",
      "Wall time: 59.3 ms\n"
     ]
    }
   ],
   "source": [
    "%%time\n",
    "print('ITEM BASED COLLABORATIVE FILTERING USING k-NN INSPIRED ALGOS')\n",
    "print('Grid Search across parameter grid to find best parameters using KNNBaseline algorithm'); print('--'*40)\n",
    "param_grid_KNNBaseline = {'bsl_options': {'method': ['als', 'sgd'], 'reg': [1, 2]}, 'k': [2, 3, 5], \n",
    "                          'sim_options': {'name': ['pearson_baseline', 'cosine'], 'user_based': [False]},\n",
    "                          'verbose': [False]}\n",
    "\n",
    "gs_KNNBaseline = GridSearchCV(KNNBaseline, param_grid_KNNBaseline, measures = ['rmse', 'mae'], cv = 3)\n",
    "gs_KNNBaseline.fit(trainset)\n",
    "print(gs_KNNBaseline.best_score['rmse'])\n",
    "print(gs_KNNBaseline.best_params['rmse'])\n"
   ]
  },
  {
   "cell_type": "markdown",
   "metadata": {
    "id": "O9A757bZ-eoO"
   },
   "source": [
    "# Algorithm choosen for Model based (Item) Collaborative Filtering using k-NN inspired method"
   ]
  },
  {
   "cell_type": "code",
   "execution_count": null,
   "metadata": {
    "colab": {
     "base_uri": "https://localhost:8080/"
    },
    "id": "KzrblWn1-kAW",
    "outputId": "e19755f1-6cd8-4eea-89db-02ee04fcdd28"
   },
   "outputs": [
    {
     "name": "stdout",
     "output_type": "stream",
     "text": [
      "ITEM BASED COLLABORATIVE FILTERING USING k-NN INSPIRED ALGOS\n",
      "2-Fold cross validation using KNNBaseline and with best parameters identified during grid search\n",
      "--------------------------------------------------------------------------------\n",
      "RMSE: nan\n",
      "RMSE: nan\n",
      "--------------------------------------------------------------------------------\n",
      "RMSE OF ITEM BASED COLLABORATIVE FILTERING USING k-NN INSPIRED ALGORITHM AND 2-FOLD CROSS VALIDATION nan\n",
      "CPU times: user 5.34 ms, sys: 2.95 ms, total: 8.29 ms\n",
      "Wall time: 8.11 ms\n"
     ]
    }
   ],
   "source": [
    "%%time\n",
    "print('ITEM BASED COLLABORATIVE FILTERING USING k-NN INSPIRED ALGOS')\n",
    "print('2-Fold cross validation using KNNBaseline and with best parameters identified during grid search'); print('--'*40)\n",
    "kf = KFold(n_splits = 2)\n",
    "algo = KNNBaseline(**gs_KNNBaseline.best_params['rmse'])\n",
    "rmse_scores = []\n",
    "\n",
    "for train_, test_ in kf.split(data):\n",
    "    algo.fit(train_)\n",
    "    predictions = algo.test(test_)\n",
    "    rmse = round(accuracy.rmse(predictions, verbose = True), 4)\n",
    "    rmse_scores.append(rmse)\n",
    "\n",
    "    dump.dump('./dump_KNNBaseline_Item', predictions, algo)\n",
    "\n",
    "print('--'*40)\n",
    "print(f'RMSE OF ITEM BASED COLLABORATIVE FILTERING USING k-NN INSPIRED ALGORITHM AND 2-FOLD CROSS VALIDATION {round(np.mean(rmse_scores), 4)}')"
   ]
  },
  {
   "cell_type": "code",
   "execution_count": null,
   "metadata": {
    "colab": {
     "base_uri": "https://localhost:8080/",
     "height": 195
    },
    "id": "GWk9QGeO-maP",
    "outputId": "71c22a14-d32d-4b5c-e68b-4d9b38982fce"
   },
   "outputs": [
    {
     "data": {
      "text/html": [
       "<div>\n",
       "<style scoped>\n",
       "    .dataframe tbody tr th:only-of-type {\n",
       "        vertical-align: middle;\n",
       "    }\n",
       "\n",
       "    .dataframe tbody tr th {\n",
       "        vertical-align: top;\n",
       "    }\n",
       "\n",
       "    .dataframe thead th {\n",
       "        text-align: right;\n",
       "    }\n",
       "</style>\n",
       "<table border=\"1\" class=\"dataframe\">\n",
       "  <thead>\n",
       "    <tr style=\"text-align: right;\">\n",
       "      <th></th>\n",
       "      <th>UserID</th>\n",
       "      <th>ProductID</th>\n",
       "      <th>ActualRating</th>\n",
       "      <th>EstRating</th>\n",
       "      <th>Details</th>\n",
       "      <th>Error</th>\n",
       "    </tr>\n",
       "  </thead>\n",
       "  <tbody>\n",
       "    <tr>\n",
       "      <th>60</th>\n",
       "      <td>jonesy9982</td>\n",
       "      <td>Samsung SGH M110</td>\n",
       "      <td>6.00</td>\n",
       "      <td>5</td>\n",
       "      <td>{'was_impossible': False}</td>\n",
       "      <td>1.00</td>\n",
       "    </tr>\n",
       "    <tr>\n",
       "      <th>2</th>\n",
       "      <td>EV</td>\n",
       "      <td>2015 Newest CUBOT X9 5.0'' Octa Core Android 4...</td>\n",
       "      <td>6.00</td>\n",
       "      <td>5</td>\n",
       "      <td>{'was_impossible': False}</td>\n",
       "      <td>1.00</td>\n",
       "    </tr>\n",
       "    <tr>\n",
       "      <th>40</th>\n",
       "      <td>Suresh Kumar</td>\n",
       "      <td>Nokia 130 Dual SIM (Red)</td>\n",
       "      <td>6.00</td>\n",
       "      <td>5</td>\n",
       "      <td>{'was_impossible': False}</td>\n",
       "      <td>1.00</td>\n",
       "    </tr>\n",
       "    <tr>\n",
       "      <th>20</th>\n",
       "      <td>Véronica BF</td>\n",
       "      <td>Samsung B 2100i Téléphone Mobile Compact 10 Mo...</td>\n",
       "      <td>4.00</td>\n",
       "      <td>5</td>\n",
       "      <td>{'was_impossible': False}</td>\n",
       "      <td>1.00</td>\n",
       "    </tr>\n",
       "    <tr>\n",
       "      <th>49</th>\n",
       "      <td>Druli</td>\n",
       "      <td>LG Electronics P880 Optimus 4X HD Smartphone (...</td>\n",
       "      <td>4.00</td>\n",
       "      <td>5</td>\n",
       "      <td>{'was_impossible': False}</td>\n",
       "      <td>1.00</td>\n",
       "    </tr>\n",
       "  </tbody>\n",
       "</table>\n",
       "</div>"
      ],
      "text/plain": [
       "          UserID                                          ProductID  \\\n",
       "60    jonesy9982                                   Samsung SGH M110   \n",
       "2             EV  2015 Newest CUBOT X9 5.0'' Octa Core Android 4...   \n",
       "40  Suresh Kumar                           Nokia 130 Dual SIM (Red)   \n",
       "20   Véronica BF  Samsung B 2100i Téléphone Mobile Compact 10 Mo...   \n",
       "49         Druli  LG Electronics P880 Optimus 4X HD Smartphone (...   \n",
       "\n",
       "    ActualRating  EstRating                    Details  Error  \n",
       "60          6.00          5  {'was_impossible': False}   1.00  \n",
       "2           6.00          5  {'was_impossible': False}   1.00  \n",
       "40          6.00          5  {'was_impossible': False}   1.00  \n",
       "20          4.00          5  {'was_impossible': False}   1.00  \n",
       "49          4.00          5  {'was_impossible': False}   1.00  "
      ]
     },
     "metadata": {
      "tags": []
     },
     "output_type": "display_data"
    }
   ],
   "source": [
    "predictions, algo = dump.load('./dump_KNNBaseline_Item')\n",
    "df_user = pd.DataFrame(predictions, columns = ['UserID', 'ProductID', 'ActualRating', 'EstRating', 'Details'])\n",
    "df_user['Error'] = abs(df_user['EstRating'] - df_user['ActualRating'])\n",
    "df_user.sort_values('Error', inplace = True, ascending = True)\n",
    "\n",
    "display(df_user.head())"
   ]
  },
  {
   "cell_type": "code",
   "execution_count": null,
   "metadata": {
    "colab": {
     "base_uri": "https://localhost:8080/",
     "height": 522
    },
    "id": "0Bbd2d9O-pw1",
    "outputId": "bda4908e-5ae8-4257-c080-3db1c043a1d2"
   },
   "outputs": [
    {
     "name": "stdout",
     "output_type": "stream",
     "text": [
      "Actual vs Prediction Comparison\n",
      "--------------------------------------------------------------------------------\n"
     ]
    },
    {
     "data": {
      "image/png": "[encoded data removed]",
      "text/plain": [
       "<Figure size 1080x518.4 with 1 Axes>"
      ]
     },
     "metadata": {
      "needs_background": "light",
      "tags": []
     },
     "output_type": "display_data"
    }
   ],
   "source": [
    "# Actual vs Prediction Comparison\n",
    "print('Actual vs Prediction Comparison'); print('--'*40)\n",
    "\n",
    "fig, ax = plt.subplots(figsize = (15, 7.2))\n",
    "fig.suptitle('Actual vs Prediction Comparison', fontsize = 14)\n",
    "df_user['EstRating'].plot.hist(bins = 25, alpha = 0.8)\n",
    "df_user['ActualRating'].plot.hist(bins = 25, alpha = 0.8)\n",
    "ax.legend(['Predictions', 'Actual'])\n",
    "plt.show()"
   ]
  },
  {
   "cell_type": "markdown",
   "metadata": {
    "id": "SG_ezOAVOuUx"
   },
   "source": [
    "# Try and recommend top 5 products for test users"
   ]
  },
  {
   "cell_type": "code",
   "execution_count": null,
   "metadata": {
    "id": "KezIA-dX-squ"
   },
   "outputs": [],
   "source": [
    "# Query top 5 recommendations for specific author\n",
    "print('Get top - K ( K = 5) recommendations.')\n",
    "print('Since our goal is to recommend new products to each user based on his/her habits, we will recommend 5 new products.'); print('--'*40)\n",
    "result = {}\n",
    "\n",
    "def query_user(user_id):\n",
    "  try:\n",
    "    print('User \"{}\" has already rated products (from data in training set): {}'.format(user_id, train_data.loc[(train_data['author'] == user_id), 'product'].nunique()))\n",
    "    print('Top 5 products from what\\'s already being rated: {}'.format(list(train_data[(train_data['author'] == user_id)].sort_values(by = 'Rating', ascending = False).head(5)['product'])))\n",
    "  except:\n",
    "    print('There\\'s no data for the selected user in training set')\n",
    "  print('Top 5 recommendations for the user are: {}'.format(list(df_user[(df_user['UserID'] == user_id)].sort_values(by = 'EstRating', ascending = False).head(5)['ProductID'])))\n",
    "  return list(df_user[(df_user['UserID'] == user_id)].sort_values(by = 'EstRating', ascending = False).head(5)['ProductID'])\n",
    "\n",
    "# For e.g. querying for the following user\n",
    "print('A check on what has the user liked in past (based on data available in training set, if there is) and making recommendations');\n",
    "print('--'*40, '\\n')\n",
    "\n",
    "result['EV'] = query_user('EV')\n",
    "print('\\n')"
   ]
  },
  {
   "cell_type": "code",
   "execution_count": null,
   "metadata": {
    "colab": {
     "base_uri": "https://localhost:8080/",
     "height": 238
    },
    "id": "fYCUeriv_CPd",
    "outputId": "5562b85c-5501-404e-8e81-9cb3b674ae54"
   },
   "outputs": [
    {
     "data": {
      "text/plain": [
       "{'PopularityRec': {'Jomine Jose': ['Lg Gt350 Town',\n",
       "   'LG Smartphone LG G2 Desbloqueador Gold Processador Quad-Core2,26...',\n",
       "   'NOKIA 6500 SLIDE CEP TELEFONU',\n",
       "   'Nokia 301 DS',\n",
       "   'Huawei Y5 LTE-Smartphone 11.4 cm (4.5 Zoll) 1.1 GHz Quad Core 8 GB 5 Mio. Pixel Android 5.1 Lollipop Schwarz'],\n",
       "  'Vinod Kumar Chengespur': ['Lg Gt350 Town',\n",
       "   'LG Smartphone LG G2 Desbloqueador Gold Processador Quad-Core2,26...',\n",
       "   'NOKIA 6500 SLIDE CEP TELEFONU',\n",
       "   'Nokia 301 DS',\n",
       "   'Huawei Y5 LTE-Smartphone 11.4 cm (4.5 Zoll) 1.1 GHz Quad Core 8 GB 5 Mio. Pixel Android 5.1 Lollipop Schwarz']},\n",
       " 'SVD Item-based Collaborative Filtering': {},\n",
       " 'k-NN Item-based Collaborative Filtering': {'EV': [\"2015 Newest CUBOT X9 5.0'' Octa Core Android 4.4 Kitkat OS Unlocked 3G Smartphone -- IPS HD Touchscreen HotKnot MTK6592 Dual SIM Dual Standby Mobile Phone 2G RAM 16G ROM WIFI OTG GPS Finger Gesture Air Gesture Cellphone 3G Phablet (Golden)\"]}}"
      ]
     },
     "metadata": {
      "tags": []
     },
     "output_type": "display_data"
    }
   ],
   "source": [
    "compare_dict['k-NN Item-based Collaborative Filtering'] = result\n",
    "display(compare_dict)"
   ]
  },
  {
   "cell_type": "code",
   "execution_count": null,
   "metadata": {
    "colab": {
     "base_uri": "https://localhost:8080/",
     "height": 195
    },
    "id": "hBtS2PmlE3o7",
    "outputId": "2f538a6f-513c-4f31-ca99-6af3d5202df9"
   },
   "outputs": [
    {
     "data": {
      "text/html": [
       "<div>\n",
       "<style scoped>\n",
       "    .dataframe tbody tr th:only-of-type {\n",
       "        vertical-align: middle;\n",
       "    }\n",
       "\n",
       "    .dataframe tbody tr th {\n",
       "        vertical-align: top;\n",
       "    }\n",
       "\n",
       "    .dataframe thead th {\n",
       "        text-align: right;\n",
       "    }\n",
       "</style>\n",
       "<table border=\"1\" class=\"dataframe\">\n",
       "  <thead>\n",
       "    <tr style=\"text-align: right;\">\n",
       "      <th></th>\n",
       "      <th>UserID</th>\n",
       "      <th>ProductID</th>\n",
       "      <th>ActualRating</th>\n",
       "      <th>EstRating</th>\n",
       "      <th>Details</th>\n",
       "      <th>Error</th>\n",
       "    </tr>\n",
       "  </thead>\n",
       "  <tbody>\n",
       "    <tr>\n",
       "      <th>60</th>\n",
       "      <td>jonesy9982</td>\n",
       "      <td>Samsung SGH M110</td>\n",
       "      <td>6.00</td>\n",
       "      <td>5</td>\n",
       "      <td>{'was_impossible': False}</td>\n",
       "      <td>1.00</td>\n",
       "    </tr>\n",
       "    <tr>\n",
       "      <th>2</th>\n",
       "      <td>EV</td>\n",
       "      <td>2015 Newest CUBOT X9 5.0'' Octa Core Android 4...</td>\n",
       "      <td>6.00</td>\n",
       "      <td>5</td>\n",
       "      <td>{'was_impossible': False}</td>\n",
       "      <td>1.00</td>\n",
       "    </tr>\n",
       "    <tr>\n",
       "      <th>40</th>\n",
       "      <td>Suresh Kumar</td>\n",
       "      <td>Nokia 130 Dual SIM (Red)</td>\n",
       "      <td>6.00</td>\n",
       "      <td>5</td>\n",
       "      <td>{'was_impossible': False}</td>\n",
       "      <td>1.00</td>\n",
       "    </tr>\n",
       "    <tr>\n",
       "      <th>20</th>\n",
       "      <td>Véronica BF</td>\n",
       "      <td>Samsung B 2100i Téléphone Mobile Compact 10 Mo...</td>\n",
       "      <td>4.00</td>\n",
       "      <td>5</td>\n",
       "      <td>{'was_impossible': False}</td>\n",
       "      <td>1.00</td>\n",
       "    </tr>\n",
       "    <tr>\n",
       "      <th>49</th>\n",
       "      <td>Druli</td>\n",
       "      <td>LG Electronics P880 Optimus 4X HD Smartphone (...</td>\n",
       "      <td>4.00</td>\n",
       "      <td>5</td>\n",
       "      <td>{'was_impossible': False}</td>\n",
       "      <td>1.00</td>\n",
       "    </tr>\n",
       "  </tbody>\n",
       "</table>\n",
       "</div>"
      ],
      "text/plain": [
       "          UserID                                          ProductID  \\\n",
       "60    jonesy9982                                   Samsung SGH M110   \n",
       "2             EV  2015 Newest CUBOT X9 5.0'' Octa Core Android 4...   \n",
       "40  Suresh Kumar                           Nokia 130 Dual SIM (Red)   \n",
       "20   Véronica BF  Samsung B 2100i Téléphone Mobile Compact 10 Mo...   \n",
       "49         Druli  LG Electronics P880 Optimus 4X HD Smartphone (...   \n",
       "\n",
       "    ActualRating  EstRating                    Details  Error  \n",
       "60          6.00          5  {'was_impossible': False}   1.00  \n",
       "2           6.00          5  {'was_impossible': False}   1.00  \n",
       "40          6.00          5  {'was_impossible': False}   1.00  \n",
       "20          4.00          5  {'was_impossible': False}   1.00  \n",
       "49          4.00          5  {'was_impossible': False}   1.00  "
      ]
     },
     "execution_count": 197,
     "metadata": {
      "tags": []
     },
     "output_type": "execute_result"
    }
   ],
   "source": [
    "df_user.head()"
   ]
  },
  {
   "cell_type": "markdown",
   "metadata": {
    "id": "W450okbGE8fy"
   },
   "source": [
    "# Item based Collaborative Filtering (k-NN)\n",
    "\n",
    "\n",
    "Using k-NN inspired algos for item based collaborative filtering and 2-Fold cross validation, we get a RMSE score of ~0.9655."
   ]
  },
  {
   "cell_type": "code",
   "execution_count": null,
   "metadata": {
    "colab": {
     "base_uri": "https://localhost:8080/"
    },
    "id": "ApcDuTbaFFgy",
    "outputId": "35f09acc-8c25-440f-87af-9a72b5d978a8"
   },
   "outputs": [
    {
     "name": "stdout",
     "output_type": "stream",
     "text": [
      "USER BASED COLLABORATIVE FILTERING USING k-NN INSPIRED ALGOS\n",
      "Grid Search across parameter grid to find best parameters using KNNBaseline algorithm\n",
      "--------------------------------------------------------------------------------\n",
      "nan\n",
      "{'bsl_options': {'method': 'als', 'reg': 1}, 'k': 2, 'sim_options': {'name': 'pearson_baseline', 'user_based': True}, 'verbose': False}\n",
      "CPU times: user 64.5 ms, sys: 1.92 ms, total: 66.4 ms\n",
      "Wall time: 68.6 ms\n"
     ]
    }
   ],
   "source": [
    "%%time\n",
    "print('USER BASED COLLABORATIVE FILTERING USING k-NN INSPIRED ALGOS')\n",
    "print('Grid Search across parameter grid to find best parameters using KNNBaseline algorithm'); print('--'*40)\n",
    "param_grid_KNNBaseline = {'bsl_options': {'method': ['als', 'sgd'], 'reg': [1, 2]}, 'k': [2, 3, 5], \n",
    "                          'sim_options': {'name': ['pearson_baseline', 'cosine'], 'user_based': [True]},\n",
    "                          'verbose': [False]}\n",
    "\n",
    "gs_KNNBaseline = GridSearchCV(KNNBaseline, param_grid_KNNBaseline, measures = ['rmse', 'mae'], cv = 3)\n",
    "gs_KNNBaseline.fit(trainset)\n",
    "print(gs_KNNBaseline.best_score['rmse'])\n",
    "print(gs_KNNBaseline.best_params['rmse'])"
   ]
  },
  {
   "cell_type": "code",
   "execution_count": null,
   "metadata": {
    "colab": {
     "base_uri": "https://localhost:8080/"
    },
    "id": "xtkPpWaDFNIq",
    "outputId": "b2a4d105-eed6-432d-c71f-e87575f8ec26"
   },
   "outputs": [
    {
     "name": "stdout",
     "output_type": "stream",
     "text": [
      "USER BASED COLLABORATIVE FILTERING USING k-NN INSPIRED ALGOS\n",
      "2-Fold cross validation using KNNBaseline and with best parameters identified during grid search\n",
      "--------------------------------------------------------------------------------\n",
      "RMSE: nan\n",
      "RMSE: nan\n",
      "--------------------------------------------------------------------------------\n",
      "RMSE OF USER BASED COLLABORATIVE FILTERING USING k-NN INSPIRED ALGORITHM AND 2-FOLD CROSS VALIDATION nan\n",
      "CPU times: user 8.21 ms, sys: 9 µs, total: 8.22 ms\n",
      "Wall time: 8.19 ms\n"
     ]
    }
   ],
   "source": [
    "%%time\n",
    "print('USER BASED COLLABORATIVE FILTERING USING k-NN INSPIRED ALGOS')\n",
    "print('2-Fold cross validation using KNNBaseline and with best parameters identified during grid search'); print('--'*40)\n",
    "kf = KFold(n_splits = 2)\n",
    "algo = KNNBaseline(**gs_KNNBaseline.best_params['rmse'])\n",
    "rmse_scores = []\n",
    "\n",
    "for train_, test_ in kf.split(data):\n",
    "    algo.fit(train_)\n",
    "    predictions = algo.test(test_)\n",
    "    rmse = round(accuracy.rmse(predictions, verbose = True), 4)\n",
    "    rmse_scores.append(rmse)\n",
    "\n",
    "    dump.dump('./dump_KNNBaseline_User', predictions, algo)\n",
    "\n",
    "print('--'*40)\n",
    "print(f'RMSE OF USER BASED COLLABORATIVE FILTERING USING k-NN INSPIRED ALGORITHM AND 2-FOLD CROSS VALIDATION {round(np.mean(rmse_scores), 4)}')"
   ]
  },
  {
   "cell_type": "code",
   "execution_count": null,
   "metadata": {
    "colab": {
     "base_uri": "https://localhost:8080/",
     "height": 195
    },
    "id": "AnXjX42EFQya",
    "outputId": "be75554a-39c2-485d-e21e-52e5dab225e7"
   },
   "outputs": [
    {
     "data": {
      "text/html": [
       "<div>\n",
       "<style scoped>\n",
       "    .dataframe tbody tr th:only-of-type {\n",
       "        vertical-align: middle;\n",
       "    }\n",
       "\n",
       "    .dataframe tbody tr th {\n",
       "        vertical-align: top;\n",
       "    }\n",
       "\n",
       "    .dataframe thead th {\n",
       "        text-align: right;\n",
       "    }\n",
       "</style>\n",
       "<table border=\"1\" class=\"dataframe\">\n",
       "  <thead>\n",
       "    <tr style=\"text-align: right;\">\n",
       "      <th></th>\n",
       "      <th>UserID</th>\n",
       "      <th>ProductID</th>\n",
       "      <th>ActualRating</th>\n",
       "      <th>EstRating</th>\n",
       "      <th>Details</th>\n",
       "      <th>Error</th>\n",
       "    </tr>\n",
       "  </thead>\n",
       "  <tbody>\n",
       "    <tr>\n",
       "      <th>74</th>\n",
       "      <td>anonym</td>\n",
       "      <td>Sagem MY 411X</td>\n",
       "      <td>6.00</td>\n",
       "      <td>5</td>\n",
       "      <td>{'was_impossible': False}</td>\n",
       "      <td>1.00</td>\n",
       "    </tr>\n",
       "    <tr>\n",
       "      <th>28</th>\n",
       "      <td>SG21</td>\n",
       "      <td>Philips 330</td>\n",
       "      <td>4.00</td>\n",
       "      <td>5</td>\n",
       "      <td>{'was_impossible': False}</td>\n",
       "      <td>1.00</td>\n",
       "    </tr>\n",
       "    <tr>\n",
       "      <th>20</th>\n",
       "      <td>Bad John</td>\n",
       "      <td>LG A340 Unlocked GSM Flip Phone w/ 1.3MP Camer...</td>\n",
       "      <td>6.00</td>\n",
       "      <td>5</td>\n",
       "      <td>{'was_impossible': False}</td>\n",
       "      <td>1.00</td>\n",
       "    </tr>\n",
       "    <tr>\n",
       "      <th>53</th>\n",
       "      <td>Cliente Amazon</td>\n",
       "      <td>LG G3 8806084954985 4G 16GB Black smartphone -...</td>\n",
       "      <td>6.00</td>\n",
       "      <td>5</td>\n",
       "      <td>{'was_impossible': False}</td>\n",
       "      <td>1.00</td>\n",
       "    </tr>\n",
       "    <tr>\n",
       "      <th>42</th>\n",
       "      <td>Johannes Birgir Atlason</td>\n",
       "      <td>Samsung Galaxy S III i9305 Black 4G/LTE Intern...</td>\n",
       "      <td>6.00</td>\n",
       "      <td>5</td>\n",
       "      <td>{'was_impossible': False}</td>\n",
       "      <td>1.00</td>\n",
       "    </tr>\n",
       "  </tbody>\n",
       "</table>\n",
       "</div>"
      ],
      "text/plain": [
       "                     UserID  \\\n",
       "74                   anonym   \n",
       "28                     SG21   \n",
       "20                 Bad John   \n",
       "53           Cliente Amazon   \n",
       "42  Johannes Birgir Atlason   \n",
       "\n",
       "                                            ProductID  ActualRating  \\\n",
       "74                                      Sagem MY 411X          6.00   \n",
       "28                                        Philips 330          4.00   \n",
       "20  LG A340 Unlocked GSM Flip Phone w/ 1.3MP Camer...          6.00   \n",
       "53  LG G3 8806084954985 4G 16GB Black smartphone -...          6.00   \n",
       "42  Samsung Galaxy S III i9305 Black 4G/LTE Intern...          6.00   \n",
       "\n",
       "    EstRating                    Details  Error  \n",
       "74          5  {'was_impossible': False}   1.00  \n",
       "28          5  {'was_impossible': False}   1.00  \n",
       "20          5  {'was_impossible': False}   1.00  \n",
       "53          5  {'was_impossible': False}   1.00  \n",
       "42          5  {'was_impossible': False}   1.00  "
      ]
     },
     "metadata": {
      "tags": []
     },
     "output_type": "display_data"
    }
   ],
   "source": [
    "\n",
    "predictions, algo = dump.load('./dump_KNNBaseline_User')\n",
    "df_user = pd.DataFrame(predictions, columns = ['UserID', 'ProductID', 'ActualRating', 'EstRating', 'Details'])\n",
    "df_user['Error'] = abs(df_user['EstRating'] - df_user['ActualRating'])\n",
    "df_user.sort_values('Error', inplace = True, ascending = True)\n",
    "\n",
    "display(df_user.head())"
   ]
  },
  {
   "cell_type": "code",
   "execution_count": null,
   "metadata": {
    "colab": {
     "base_uri": "https://localhost:8080/"
    },
    "id": "0LzhcTafFi0y",
    "outputId": "87a73f7a-09e0-4cd0-a7a9-cf7ac3d2a281"
   },
   "outputs": [
    {
     "name": "stdout",
     "output_type": "stream",
     "text": [
      "A check on what has the user liked in past (based on data available in training set, if there is) and making recommendations\n",
      "-------------------------------------------------------------------------------- \n",
      "\n",
      "User \"SG21\" has already rated products (from data in training set): 1\n",
      "There's no data for the selected user in training set\n",
      "Top 5 recommendations for the user are: ['Philips 330']\n",
      "\n",
      "\n",
      "User \"Suresh Kumar\" has already rated products (from data in training set): 1\n",
      "There's no data for the selected user in training set\n",
      "Top 5 recommendations for the user are: []\n"
     ]
    }
   ],
   "source": [
    "print('A check on what has the user liked in past (based on data available in training set, if there is) and making recommendations');\n",
    "print('--'*40, '\\n')\n",
    "result = {}\n",
    "\n",
    "result['SG21'] = query_user('SG21')\n",
    "print('\\n')\n",
    "result['Suresh Kumar'] = query_user('Suresh Kumar')"
   ]
  },
  {
   "cell_type": "code",
   "execution_count": null,
   "metadata": {
    "colab": {
     "base_uri": "https://localhost:8080/",
     "height": 272
    },
    "id": "mgzSjZElF2it",
    "outputId": "7c61cac0-5fe9-4603-edcc-db8c0dd2147d"
   },
   "outputs": [
    {
     "data": {
      "text/plain": [
       "{'PopularityRec': {'Jomine Jose': ['Lg Gt350 Town',\n",
       "   'LG Smartphone LG G2 Desbloqueador Gold Processador Quad-Core2,26...',\n",
       "   'NOKIA 6500 SLIDE CEP TELEFONU',\n",
       "   'Nokia 301 DS',\n",
       "   'Huawei Y5 LTE-Smartphone 11.4 cm (4.5 Zoll) 1.1 GHz Quad Core 8 GB 5 Mio. Pixel Android 5.1 Lollipop Schwarz'],\n",
       "  'Vinod Kumar Chengespur': ['Lg Gt350 Town',\n",
       "   'LG Smartphone LG G2 Desbloqueador Gold Processador Quad-Core2,26...',\n",
       "   'NOKIA 6500 SLIDE CEP TELEFONU',\n",
       "   'Nokia 301 DS',\n",
       "   'Huawei Y5 LTE-Smartphone 11.4 cm (4.5 Zoll) 1.1 GHz Quad Core 8 GB 5 Mio. Pixel Android 5.1 Lollipop Schwarz']},\n",
       " 'SVD Item-based Collaborative Filtering': {},\n",
       " 'k-NN Item-based Collaborative Filtering': {'EV': [\"2015 Newest CUBOT X9 5.0'' Octa Core Android 4.4 Kitkat OS Unlocked 3G Smartphone -- IPS HD Touchscreen HotKnot MTK6592 Dual SIM Dual Standby Mobile Phone 2G RAM 16G ROM WIFI OTG GPS Finger Gesture Air Gesture Cellphone 3G Phablet (Golden)\"]},\n",
       " 'k-NN User-based Collaborative Filtering': {'SG21': ['Philips 330'],\n",
       "  'Suresh Kumar': []}}"
      ]
     },
     "metadata": {
      "tags": []
     },
     "output_type": "display_data"
    }
   ],
   "source": [
    "\n",
    "compare_dict['k-NN User-based Collaborative Filtering'] = result\n",
    "display(compare_dict)"
   ]
  },
  {
   "cell_type": "markdown",
   "metadata": {
    "id": "ZSz5icBlPx3b"
   },
   "source": [
    "# In what business scenario you should use popularity based Recommendation Systems ?"
   ]
  },
  {
   "cell_type": "markdown",
   "metadata": {
    "id": "DTX4AAxqP6XF"
   },
   "source": [
    "It is a type of recommendation system which works on the principle of popularity and or anything which is in trend. These systems check about the product or movie which are in trend or are most popular among the users and directly recommend those.\n",
    "\n",
    " \n",
    "\n",
    "For example, if a product is often purchased by most people then the system will get to know that that product is most popular so for every new user who just signed it, the system will recommend that product to that user also and chances becomes high that the new user will also purchase that. \n",
    "\n"
   ]
  },
  {
   "cell_type": "markdown",
   "metadata": {
    "id": "_0ubOYgtQMD3"
   },
   "source": [
    "# In what business scenario you should use CF based Recommendation Systems ?"
   ]
  },
  {
   "cell_type": "markdown",
   "metadata": {
    "id": "HXmwkOKoQSgP"
   },
   "source": [
    "It is considered to be one of the very smart recommender systems that work on the similarity between different users and also items that are widely used as an e-commerce website and also online movie websites. It checks about the taste of similar users and does recommendations. \n",
    "\n",
    " \n",
    "\n",
    "The similarity is not restricted to the taste of the user moreover there can be consideration of similarity between different items also. The system will give more efficient recommendations if we have a large volume of information about users and items."
   ]
  },
  {
   "cell_type": "markdown",
   "metadata": {
    "id": "rEqAO-saQq1G"
   },
   "source": [
    "# What other possible methods can you think of which can further improve the recommendation for different users ?"
   ]
  },
  {
   "cell_type": "markdown",
   "metadata": {
    "id": "hItwEjycQsGJ"
   },
   "source": [
    "Content-based Recommender Systems\n",
    "\n",
    "Unlike collaborative filtering methods, content-based recommender systems do not use other user’s ratings at all. Instead, they utilize descriptive keywords associated with each item to make recommendations. This is quite useful, because the only rating history we need to make predictions is that of the target user.\n",
    "You might be able to see how recommending items like this might conflict with our goal of serendipity (recommending the user a variety of items) we talked about earlier. For example, if item has no keywords in common with any item the user has rated, that item will never be recommended. I go into greater detail on content-based recommender systems here and implement an example with association rules here."
   ]
  },
  {
   "cell_type": "markdown",
   "metadata": {
    "id": "f62u8lnxQzIF"
   },
   "source": [
    "Knowledge-based Recommender Systems\n",
    "\n",
    "Knowledge-based recommender systems are similar to content-based recommender systems in that they construct a personalized model for each user and use it to find relevant items for them. However, instead of using the rating history of the user to construct that model, they require the user to explicitly state their preferences, perhaps through keywords or a series of requirements. They are useful in a cold start scenario, or in a complex item domain with many attributes, where a user might not immediately know what they want."
   ]
  },
  {
   "cell_type": "markdown",
   "metadata": {
    "id": "y_9c3DX2Q3AE"
   },
   "source": [
    "Hybrid Recommender Systems\n",
    "\n",
    "These basic types of recommender system are rarely, if ever used in isolation. Most recommender systems used in practical applications are combinations of models, or hybrid models.\n",
    "These hybrid models could be as taking the weighted average of several models, or as complex as large monolithic systems that blur lines between models.\n",
    "This is a especially rich and useful topic to explore, as many of the best recommender systems get their edge from how they use models collectively. Learn about the various types of hybrid recommender systems here.\n"
   ]
  }
 ],
 "metadata": {
  "accelerator": "GPU",
  "colab": {
   "collapsed_sections": [],
   "name": "Untitled.ipynb",
   "provenance": []
  },
  "kernelspec": {
   "display_name": "Python 3",
   "language": "python",
   "name": "python3"
  },
  "language_info": {
   "codemirror_mode": {
    "name": "ipython",
    "version": 3
   },
   "file_extension": ".py",
   "mimetype": "text/x-python",
   "name": "python",
   "nbconvert_exporter": "python",
   "pygments_lexer": "ipython3",
   "version": "3.6.10"
  }
 },
 "nbformat": 4,
 "nbformat_minor": 1
}
